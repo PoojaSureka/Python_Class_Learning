{
 "cells": [
  {
   "cell_type": "code",
   "execution_count": 1,
   "metadata": {},
   "outputs": [],
   "source": [
    "## control flow statements"
   ]
  },
  {
   "cell_type": "code",
   "execution_count": 19,
   "metadata": {},
   "outputs": [
    {
     "name": "stdout",
     "output_type": "stream",
     "text": [
      "cart total: 1189\n",
      "order greater than 999\n",
      "pay amount: 832.3\n"
     ]
    }
   ],
   "source": [
    "total_amount = 90+100+999\n",
    "print(f\"cart total: {total_amount}\")\n",
    "\n",
    "if  total_amount>999:\n",
    "    print(\"order greater than 999\")\n",
    "    price_after_discount = total_amount*0.7\n",
    "    print(f\"pay amount: {price_after_discount}\")\n",
    "elif total_amount < 999 and total_amount > 499:\n",
    "    print(\"order less than 999 but greater than 499\")\n",
    "    price_after_discount = total_amount*0.8\n",
    "    print(f\"pay amount: {price_after_discount}\")\n",
    "else:\n",
    "    print(\"no discount\")\n",
    "    print(f\"the amount to be paid: {total_amount}\")\n",
    "\n"
   ]
  },
  {
   "cell_type": "code",
   "execution_count": 10,
   "metadata": {},
   "outputs": [
    {
     "name": "stdout",
     "output_type": "stream",
     "text": [
      "cart total: 1189\n",
      "order greater than 999\n",
      "pay amount: 832.3\n"
     ]
    }
   ],
   "source": [
    "total_amount = 90+100+999\n",
    "\n",
    "print(f\"cart total: {total_amount}\")\n",
    "\n",
    "\n",
    "if  total_amount>999:\n",
    "    print(\"order greater than 999\")\n",
    "    price_after_discount = total_amount*70/100\n",
    "    print(f\"pay amount: {price_after_discount}\")\n",
    "elif total_amount < 999 and total_amount > 499:\n",
    "    print(\"order less than 999 but greater than 499\")\n",
    "    price_after_discount = total_amount*0.8\n",
    "    print(f\"pay amount: {price_after_discount}\")\n",
    "else:\n",
    "    print(\"no discount\")\n",
    "    print(f\"the amount to be paid: {total_amount}\")\n"
   ]
  },
  {
   "cell_type": "code",
   "execution_count": 12,
   "metadata": {},
   "outputs": [
    {
     "name": "stdout",
     "output_type": "stream",
     "text": [
      "cart total: 540\n",
      "order less than 999 but greater than 499\n",
      "pay amount: 432.0\n"
     ]
    }
   ],
   "source": [
    "total_amount = 90+450\n",
    "print(f\"cart total: {total_amount}\")\n",
    "\n",
    "\n",
    "if  total_amount>999:\n",
    "    print(\"order greater than 999\")\n",
    "    price_after_discount = total_amount*70/100\n",
    "    print(f\"pay amount: {price_after_discount}\")\n",
    "elif total_amount < 999 and total_amount > 499:\n",
    "    print(\"order less than 999 but greater than 499\")\n",
    "    price_after_discount = total_amount*0.8\n",
    "    print(f\"pay amount: {price_after_discount}\")\n",
    "else:\n",
    "    print(\"no discount\")\n",
    "    print(f\"the amount to be paid: {total_amount}\")\n"
   ]
  },
  {
   "cell_type": "code",
   "execution_count": 14,
   "metadata": {},
   "outputs": [
    {
     "name": "stdout",
     "output_type": "stream",
     "text": [
      "cart total: 90\n",
      "no discount, total amount less than 499\n",
      "the amount to be paid: 90\n"
     ]
    }
   ],
   "source": [
    "total_amount = 90\n",
    "print(f\"cart total: {total_amount}\")\n",
    "\n",
    "if  total_amount>999:\n",
    "    print(\"order greater than 999\")\n",
    "    price_after_discount = total_amount*70/100\n",
    "    print(f\"pay amount: {price_after_discount}\")\n",
    "elif total_amount < 999 and total_amount > 499:\n",
    "    print(\"order less than 999 but greater than 499\")\n",
    "    price_after_discount = total_amount*0.8\n",
    "    print(f\"pay amount: {price_after_discount}\")\n",
    "else:\n",
    "    print(\"no discount, total amount less than 499\")\n",
    "    print(f\"the amount to be paid: {total_amount}\")\n"
   ]
  },
  {
   "cell_type": "code",
   "execution_count": 15,
   "metadata": {},
   "outputs": [
    {
     "name": "stdout",
     "output_type": "stream",
     "text": [
      "cart total: 500\n",
      "order less than 999 but greater than 499\n",
      "pay amount: 400.0\n"
     ]
    }
   ],
   "source": [
    "total_amount = 500\n",
    "print(f\"cart total: {total_amount}\")\n",
    "\n",
    "if  total_amount>999:\n",
    "    print(\"order greater than 999\")\n",
    "    price_after_discount = total_amount*70/100\n",
    "    print(f\"pay amount: {price_after_discount}\")\n",
    "elif total_amount < 999 and total_amount > 499:\n",
    "    print(\"order less than 999 but greater than 499\")\n",
    "    price_after_discount = total_amount*0.8\n",
    "    print(f\"pay amount: {price_after_discount}\")\n",
    "else:\n",
    "    print(\"no discount, total amount less than 499\")\n",
    "    print(f\"the amount to be paid: {total_amount}\")\n"
   ]
  },
  {
   "cell_type": "code",
   "execution_count": 17,
   "metadata": {},
   "outputs": [
    {
     "name": "stdout",
     "output_type": "stream",
     "text": [
      "cart total: 1189\n",
      "order greater than 999\n",
      "pay amount: 832.3\n"
     ]
    }
   ],
   "source": [
    "total_amount = 90+100+999\n",
    "\n",
    "print(f\"cart total: {total_amount}\")\n",
    "\n",
    "\n",
    "if  total_amount>999:\n",
    "    print(\"order greater than 999\")\n",
    "    price_after_discount = total_amount*70/100\n",
    "    print(f\"pay amount: {price_after_discount}\")\n",
    "elif 499 < total_amount <= 999 :\n",
    "    print(\"order less than 999 but greater than 499\")\n",
    "    price_after_discount = total_amount*0.8\n",
    "    print(f\"pay amount: {price_after_discount}\")\n",
    "else:\n",
    "    print(\"no discount\")\n",
    "    print(f\"the amount to be paid: {total_amount}\")\n"
   ]
  },
  {
   "cell_type": "code",
   "execution_count": 18,
   "metadata": {},
   "outputs": [
    {
     "name": "stdout",
     "output_type": "stream",
     "text": [
      "cart total: 2000\n",
      "order greater than 999\n",
      "pay amount: 1400.0\n"
     ]
    }
   ],
   "source": [
    "total_amount = 2000\n",
    "\n",
    "print(f\"cart total: {total_amount}\")\n",
    "\n",
    "\n",
    "if  total_amount>999:\n",
    "    print(\"order greater than 999\")\n",
    "    price_after_discount = total_amount*70/100\n",
    "    print(f\"pay amount: {price_after_discount}\")\n",
    "elif 499 < total_amount <= 999 :\n",
    "    print(\"order less than 999 but greater than 499\")\n",
    "    price_after_discount = total_amount*0.8\n",
    "    print(f\"pay amount: {price_after_discount}\")\n",
    "else:\n",
    "    print(\"no discount\")\n",
    "    print(f\"the amount to be paid: {total_amount}\")"
   ]
  },
  {
   "cell_type": "code",
   "execution_count": 20,
   "metadata": {},
   "outputs": [
    {
     "name": "stdout",
     "output_type": "stream",
     "text": [
      "cart total: 1189\n",
      "order less than 1499 but greater than 999\n",
      "pay amount: 832.3\n"
     ]
    }
   ],
   "source": [
    "total_amount = 90+100+999\n",
    "\n",
    "print(f\"cart total: {total_amount}\")\n",
    "\n",
    "\n",
    "if  total_amount>1499:\n",
    "    print(\"order greater than 1499\")\n",
    "    price_after_discount = total_amount*60/100\n",
    "    print(f\"pay amount: {price_after_discount}\")\n",
    "elif 999 < total_amount <= 1499 :\n",
    "    print(\"order less than 1499 but greater than 999\")\n",
    "    price_after_discount = total_amount*0.7\n",
    "    print(f\"pay amount: {price_after_discount}\")  \n",
    "elif 499 < total_amount <= 999 :\n",
    "    print(\"order less than 999 but greater than 499\")\n",
    "    price_after_discount = total_amount*0.8\n",
    "    print(f\"pay amount: {price_after_discount}\")\n",
    "else:\n",
    "    print(\"no discount\")\n",
    "    print(f\"the amount to be paid: {total_amount}\")"
   ]
  },
  {
   "cell_type": "code",
   "execution_count": 21,
   "metadata": {},
   "outputs": [
    {
     "name": "stdout",
     "output_type": "stream",
     "text": [
      "cart total: 1500\n",
      "order greater than 1499\n",
      "pay amount: 900.0\n"
     ]
    }
   ],
   "source": [
    "total_amount = 1500\n",
    "\n",
    "print(f\"cart total: {total_amount}\")\n",
    "\n",
    "\n",
    "if  total_amount>1499:\n",
    "    print(\"order greater than 1499\")\n",
    "    price_after_discount = total_amount*60/100\n",
    "    print(f\"pay amount: {price_after_discount}\")\n",
    "elif 999 < total_amount <= 1499 :\n",
    "    print(\"order less than 1499 but greater than 999\")\n",
    "    price_after_discount = total_amount*0.7\n",
    "    print(f\"pay amount: {price_after_discount}\")  \n",
    "elif 499 < total_amount <= 999 :\n",
    "    print(\"order less than 999 but greater than 499\")\n",
    "    price_after_discount = total_amount*0.8\n",
    "    print(f\"pay amount: {price_after_discount}\")\n",
    "else:\n",
    "    print(\"no discount\")\n",
    "    print(f\"the amount to be paid: {total_amount}\")"
   ]
  },
  {
   "cell_type": "code",
   "execution_count": 23,
   "metadata": {},
   "outputs": [],
   "source": [
    "### Nested if else"
   ]
  },
  {
   "cell_type": "code",
   "execution_count": 28,
   "metadata": {},
   "outputs": [
    {
     "name": "stdout",
     "output_type": "stream",
     "text": [
      "Its a positive number\n"
     ]
    }
   ],
   "source": [
    "val = float(input(\"Enter a number: \"))\n",
    "if val >=0:\n",
    "    if val ==0:\n",
    "        print(\"Its zero\")\n",
    "    else:\n",
    "        print(\"Its a positive number\")\n",
    "else:\n",
    "    print(\"Negative number\")"
   ]
  },
  {
   "cell_type": "code",
   "execution_count": 29,
   "metadata": {},
   "outputs": [
    {
     "name": "stdout",
     "output_type": "stream",
     "text": [
      "Its zero\n"
     ]
    }
   ],
   "source": [
    "val = float(input(\"Enter a number: \"))\n",
    "if val >=0:\n",
    "    if val ==0:\n",
    "        print(\"Its zero\")\n",
    "    else:\n",
    "        print(\"Its a positive number\")\n",
    "else:\n",
    "    print(\"Negative number\")"
   ]
  },
  {
   "cell_type": "code",
   "execution_count": 38,
   "metadata": {},
   "outputs": [
    {
     "name": "stdout",
     "output_type": "stream",
     "text": [
      "The entered number is -8.0\n",
      "Negative number\n"
     ]
    }
   ],
   "source": [
    "val = float(input(\"Enter a number: \"))\n",
    "print(f\"The entered number is {val}\")\n",
    "if val >=0:\n",
    "    if val ==0:\n",
    "        print(\"Its zero\")\n",
    "    else:\n",
    "        print(\"Its a positive number\")\n",
    "else:\n",
    "    print(\"Negative number\")"
   ]
  },
  {
   "cell_type": "code",
   "execution_count": 37,
   "metadata": {},
   "outputs": [
    {
     "name": "stdout",
     "output_type": "stream",
     "text": [
      "The entered number is 0.0\n",
      "Its zero\n"
     ]
    }
   ],
   "source": [
    "val = float(input(\"Enter a number: \"))\n",
    "print(f\"The entered number is {val}\")\n",
    "if val > 0:\n",
    "    print(\"Its a positive number\")\n",
    "elif val == 0:\n",
    "    print(\"Its zero\")\n",
    "else:\n",
    "    print(\"Its a Negative number\")\n"
   ]
  },
  {
   "cell_type": "code",
   "execution_count": 36,
   "metadata": {},
   "outputs": [
    {
     "name": "stdout",
     "output_type": "stream",
     "text": [
      "The entered number is 9.0\n",
      "Its a positive number\n"
     ]
    }
   ],
   "source": [
    "val = float(input(\"Enter a number: \"))\n",
    "print(f\"The entered number is {val}\")\n",
    "if val > 0:\n",
    "    print(\"Its a positive number\")\n",
    "elif val == 0:\n",
    "    print(\"Its zero\")\n",
    "else:\n",
    "    print(\"Its a Negative number\")"
   ]
  },
  {
   "cell_type": "code",
   "execution_count": 35,
   "metadata": {},
   "outputs": [
    {
     "name": "stdout",
     "output_type": "stream",
     "text": [
      "The entered number is -9.0\n",
      "Its a Negative number\n"
     ]
    }
   ],
   "source": [
    "val = float(input(\"Enter a number: \"))\n",
    "print(f\"The entered number is {val}\")\n",
    "if val > 0:\n",
    "    print(\"Its a positive number\")\n",
    "elif val == 0:\n",
    "    print(\"Its zero\")\n",
    "else:\n",
    "    print(\"Its a Negative number\")"
   ]
  },
  {
   "cell_type": "code",
   "execution_count": 47,
   "metadata": {},
   "outputs": [
    {
     "name": "stdout",
     "output_type": "stream",
     "text": [
      "The entered number is 900.0\n",
      "YES\n"
     ]
    }
   ],
   "source": [
    "### single line if yes\n",
    "\n",
    "val = float(input(\"Enter the number: \"))\n",
    "print(f\"The entered number is {val}\")\n",
    "\n",
    "if val > 99 : print(\"YES\")\n",
    "else: print(\"NO\")"
   ]
  },
  {
   "cell_type": "code",
   "execution_count": 48,
   "metadata": {},
   "outputs": [
    {
     "name": "stdout",
     "output_type": "stream",
     "text": [
      "The entered number is 9.0\n",
      "NO\n"
     ]
    }
   ],
   "source": [
    "val = float(input(\"Enter the number: \"))\n",
    "print(f\"The entered number is {val}\")\n",
    "\n",
    "if val > 99 : print(\"YES\")\n",
    "else: print(\"NO\")"
   ]
  },
  {
   "cell_type": "code",
   "execution_count": 49,
   "metadata": {},
   "outputs": [
    {
     "name": "stdout",
     "output_type": "stream",
     "text": [
      "The entered number is 90.0\n",
      "NO\n"
     ]
    }
   ],
   "source": [
    "val = float(input(\"Enter the number: \"))\n",
    "print(f\"The entered number is {val}\")\n",
    "print(\"YES\" if val > 99 else \"NO\")"
   ]
  },
  {
   "cell_type": "code",
   "execution_count": 52,
   "metadata": {},
   "outputs": [
    {
     "name": "stdout",
     "output_type": "stream",
     "text": [
      "The entered number is 9\n",
      "NO\n"
     ]
    }
   ],
   "source": [
    "val = int(input(\"Enter the number: \"))\n",
    "print(f\"The entered number is {val}\")\n",
    "print(\"YES\" if val > 99 else \"NO\")"
   ]
  },
  {
   "attachments": {},
   "cell_type": "markdown",
   "metadata": {},
   "source": [
    "### loops\n",
    "1. while loop\n",
    "2. for loop \n",
    "3. loop control\n",
    " -break\n",
    " -continue\n",
    " -pass\n",
    "4. Nested loop\n"
   ]
  },
  {
   "cell_type": "code",
   "execution_count": 11,
   "metadata": {},
   "outputs": [
    {
     "name": "stdout",
     "output_type": "stream",
     "text": [
      "your scores for this year: 100 is less than the cutoff marks: 400\n",
      "You should attempt next year\n",
      "=====\n",
      "your scores for this year: 200 is less than the cutoff marks: 400\n",
      "You should attempt next year\n",
      "=====\n",
      "your scores for this year: 300 is less than the cutoff marks: 400\n",
      "You should attempt next year\n",
      "=====\n",
      "your scores for this year: 399 is less than the cutoff marks: 400\n",
      "You should attempt next year\n",
      "=====\n"
     ]
    }
   ],
   "source": [
    "## while loop\n",
    "total_marks = 1000\n",
    "cutoff = 400\n",
    "scores = [100,200,300,399,500]\n",
    "\n",
    "year = 0\n",
    "\n",
    "while scores[year] < cutoff:\n",
    "    print(f\"your scores for this year: {scores[year]} is less than the cutoff marks: {cutoff}\")\n",
    "    print(\"You should attempt next year\")\n",
    "    print(\"=====\")\n",
    "    year = year + 1"
   ]
  },
  {
   "cell_type": "code",
   "execution_count": 2,
   "metadata": {},
   "outputs": [
    {
     "name": "stdout",
     "output_type": "stream",
     "text": [
      "current sum: 10\n",
      "current sum: 20\n",
      "current sum: 30\n",
      "current sum: 40\n",
      "current sum: 50\n"
     ]
    }
   ],
   "source": [
    "notes = 5\n",
    "\n",
    "i = 1\n",
    "while i <= notes:\n",
    "    print(f\"current sum: {i*10}\")\n",
    "    i = i+1\n"
   ]
  },
  {
   "cell_type": "code",
   "execution_count": 3,
   "metadata": {},
   "outputs": [
    {
     "name": "stdout",
     "output_type": "stream",
     "text": [
      "current sum: 10\n",
      "current sum: 20\n",
      "current sum: 30\n",
      "current sum: 40\n",
      "current sum: 50\n",
      "current sum: 60\n",
      "current sum: 70\n",
      "current sum: 80\n",
      "current sum: 90\n",
      "current sum: 100\n"
     ]
    }
   ],
   "source": [
    "notes = 10\n",
    "\n",
    "i = 1\n",
    "while i <= notes:\n",
    "    print(f\"current sum: {i*10}\")\n",
    "    i = i+1"
   ]
  },
  {
   "cell_type": "code",
   "execution_count": 8,
   "metadata": {},
   "outputs": [
    {
     "name": "stdout",
     "output_type": "stream",
     "text": [
      "The current station: station 01\n",
      "My destination is: station 03\n",
      "continue the journey, I haven't reached the destination\n",
      "Next station is: station 02 \n",
      "====\n",
      "The current station: station 02\n",
      "My destination is: station 03\n",
      "continue the journey, I haven't reached the destination\n",
      "Next station is: station 03 \n",
      "====\n"
     ]
    }
   ],
   "source": [
    "stations = [\"station 01\", \"station 02\", \"station 03\", \"station 04\"]\n",
    "\n",
    "current_station = 0 \n",
    "Destination_station = \"station 03\"\n",
    "\n",
    "while stations[current_station] != Destination_station:\n",
    "    print(f\"The current station: {stations[current_station]}\")\n",
    "    print(f\"My destination is: {Destination_station}\")\n",
    "    print(\"continue the journey, I haven't reached the destination\")\n",
    "    current_station = current_station + 1\n",
    "    print(f\"Next station is: {stations[current_station]} \")\n",
    "    \n",
    "    print(\"====\")"
   ]
  },
  {
   "cell_type": "code",
   "execution_count": 17,
   "metadata": {},
   "outputs": [
    {
     "name": "stdout",
     "output_type": "stream",
     "text": [
      "The current station: station 01\n",
      "My destination is: station 03\n",
      "continue the journey, I haven't reached the destination\n",
      "Next station is: station 02\n",
      "====\n",
      "The current station: station 02\n",
      "My destination is: station 03\n",
      "continue the journey, I haven't reached the destination\n",
      "Next station is: station 03\n",
      "====\n",
      "My destination is: station 03\n",
      "I have arrived at: station 03\n"
     ]
    }
   ],
   "source": [
    "# while else\n",
    "\n",
    "stations = [\"station 01\", \"station 02\", \"station 03\", \"station 04\"]\n",
    "\n",
    "current_station = 0 \n",
    "Destination_station = \"station 03\"\n",
    "\n",
    "while stations[current_station] != Destination_station:\n",
    "    print(f\"The current station: {stations[current_station]}\")\n",
    "    print(f\"My destination is: {Destination_station}\")\n",
    "    print(\"continue the journey, I haven't reached the destination\")\n",
    "    current_station = current_station + 1\n",
    "    print(f\"Next station is: {stations[current_station]}\")\n",
    "    \n",
    "    print(\"====\")\n",
    "else: \n",
    "    print(f\"My destination is: {Destination_station}\")\n",
    "    print(f\"I have arrived at: {stations[current_station]}\")"
   ]
  },
  {
   "cell_type": "code",
   "execution_count": 20,
   "metadata": {},
   "outputs": [
    {
     "name": "stdout",
     "output_type": "stream",
     "text": [
      "your scores for this year: 550 is more than the cutoff marks: 400\n",
      "You passed\n",
      "=====\n"
     ]
    }
   ],
   "source": [
    "total_marks = 1000\n",
    "cutoff = 400\n",
    "scores = [550,200,300,399,500]\n",
    "\n",
    "year = 0\n",
    "\n",
    "while scores[year] < cutoff:\n",
    "    print(f\"your scores for this year: {scores[year]} is less than the cutoff marks: {cutoff}\")\n",
    "    print(\"You should attempt next year\")\n",
    "    print(\"=====\")\n",
    "    year = year + 1\n",
    "else:\n",
    "    print(f\"your scores for this year: {scores[year]} is more than the cutoff marks: {cutoff}\")\n",
    "    print(\"You passed\")\n",
    "    print(\"=====\")"
   ]
  },
  {
   "cell_type": "code",
   "execution_count": 24,
   "metadata": {},
   "outputs": [
    {
     "name": "stdout",
     "output_type": "stream",
     "text": [
      "CONDITION: True\n",
      "current sum: 10\n",
      "======\n",
      "CONDITION: True\n",
      "current sum: 20\n",
      "======\n",
      "CONDITION: True\n",
      "current sum: 30\n",
      "======\n",
      "CONDITION: True\n",
      "current sum: 40\n",
      "======\n",
      "CONDITION: True\n",
      "current sum: 50\n",
      "======\n",
      "CONDITION: False\n",
      "No more 10 rupees left\n"
     ]
    }
   ],
   "source": [
    "notes = 5\n",
    "\n",
    "i = 1\n",
    "while i <= notes:\n",
    "    print(f\"CONDITION: {i <= notes}\")\n",
    "    print(f\"current sum: {i*10}\")\n",
    "    i = i+1\n",
    "    print(\"======\")\n",
    "else:\n",
    "    print(f\"CONDITION: {i <= notes}\")\n",
    "    print(\"No more 10 rupees left\")"
   ]
  },
  {
   "cell_type": "code",
   "execution_count": 25,
   "metadata": {},
   "outputs": [],
   "source": [
    "## for loop"
   ]
  },
  {
   "cell_type": "code",
   "execution_count": 27,
   "metadata": {},
   "outputs": [
    {
     "name": "stdout",
     "output_type": "stream",
     "text": [
      "0\n",
      "1\n",
      "2\n",
      "3\n",
      "4\n",
      "5\n",
      "6\n",
      "7\n",
      "8\n",
      "9\n"
     ]
    }
   ],
   "source": [
    "for i in range(0,10):\n",
    "    print(i)"
   ]
  },
  {
   "cell_type": "code",
   "execution_count": 29,
   "metadata": {},
   "outputs": [
    {
     "name": "stdout",
     "output_type": "stream",
     "text": [
      "10 * 1 = 10\n",
      "10 * 2 = 20\n",
      "10 * 3 = 30\n",
      "10 * 4 = 40\n",
      "10 * 5 = 50\n",
      "10 * 6 = 60\n",
      "10 * 7 = 70\n",
      "10 * 8 = 80\n",
      "10 * 9 = 90\n",
      "10 * 10 = 100\n"
     ]
    }
   ],
   "source": [
    "for i in range(1,11):\n",
    "    print(f\"10 * {i} = {10*i}\") "
   ]
  },
  {
   "cell_type": "code",
   "execution_count": 31,
   "metadata": {},
   "outputs": [
    {
     "name": "stdout",
     "output_type": "stream",
     "text": [
      "10 * 1 = 10\n",
      "10 * 2 = 20\n",
      "10 * 3 = 30\n",
      "10 * 4 = 40\n",
      "10 * 5 = 50\n",
      "10 * 6 = 60\n",
      "10 * 7 = 70\n",
      "10 * 8 = 80\n",
      "10 * 9 = 90\n",
      "10 * 10 = 100\n"
     ]
    }
   ],
   "source": [
    "for i in range(0,10):\n",
    "    print(f\"10 * {i+1} = {10*(i+1)}\") "
   ]
  },
  {
   "cell_type": "code",
   "execution_count": 32,
   "metadata": {},
   "outputs": [
    {
     "name": "stdout",
     "output_type": "stream",
     "text": [
      "*\n",
      "**\n",
      "***\n",
      "****\n",
      "*****\n",
      "******\n",
      "*******\n",
      "********\n",
      "*********\n",
      "**********\n"
     ]
    }
   ],
   "source": [
    "for i in range(1,11):\n",
    "    print(f\"*\" *i) "
   ]
  },
  {
   "cell_type": "code",
   "execution_count": 34,
   "metadata": {},
   "outputs": [
    {
     "data": {
      "text/plain": [
       "'PoojaPoojaPoojaPoojaPoojaPoojaPoojaPoojaPoojaPooja'"
      ]
     },
     "execution_count": 34,
     "metadata": {},
     "output_type": "execute_result"
    }
   ],
   "source": [
    "\"Pooja\" * 10"
   ]
  },
  {
   "cell_type": "code",
   "execution_count": 36,
   "metadata": {},
   "outputs": [
    {
     "data": {
      "text/plain": [
       "'Pooja Pooja'"
      ]
     },
     "execution_count": 36,
     "metadata": {},
     "output_type": "execute_result"
    }
   ],
   "source": [
    "\"Pooja\" + \"Pooja\""
   ]
  },
  {
   "cell_type": "code",
   "execution_count": 37,
   "metadata": {},
   "outputs": [
    {
     "data": {
      "text/plain": [
       "'**********'"
      ]
     },
     "execution_count": 37,
     "metadata": {},
     "output_type": "execute_result"
    }
   ],
   "source": [
    "\"*\"*10"
   ]
  },
  {
   "cell_type": "code",
   "execution_count": 41,
   "metadata": {},
   "outputs": [
    {
     "name": "stdout",
     "output_type": "stream",
     "text": [
      "0 = 0 + 100\n",
      "Atfer adding total sum = 100\n",
      "====\n",
      "100 = 100 + 200\n",
      "Atfer adding total sum = 300\n",
      "====\n",
      "300 = 300 + 129\n",
      "Atfer adding total sum = 429\n",
      "====\n",
      "429 = 429 + 456\n",
      "Atfer adding total sum = 885\n",
      "====\n",
      "Total amount to be paid: 885\n"
     ]
    }
   ],
   "source": [
    "cost_of_items = [100,200,129,456]\n",
    "\n",
    "total_sum  = 0\n",
    "\n",
    "for i in range(0,4):\n",
    "    print(f\"{total_sum} = {total_sum} + {cost_of_items[i]}\")\n",
    "    total_sum = total_sum + cost_of_items[i]\n",
    "    print(f\"Atfer adding total sum = {total_sum}\")\n",
    "    print(\"====\")\n",
    "\n",
    "print(f\"Total amount to be paid: {total_sum}\")"
   ]
  },
  {
   "cell_type": "code",
   "execution_count": 42,
   "metadata": {},
   "outputs": [
    {
     "name": "stdout",
     "output_type": "stream",
     "text": [
      "0 = 0 + 100\n",
      "Atfer adding total sum = 100\n",
      "====\n",
      "100 = 100 + 200\n",
      "Atfer adding total sum = 300\n",
      "====\n",
      "300 = 300 + 129\n",
      "Atfer adding total sum = 429\n",
      "====\n",
      "429 = 429 + 456\n",
      "Atfer adding total sum = 885\n",
      "====\n",
      "Total amount to be paid: 885\n"
     ]
    }
   ],
   "source": [
    "cost_of_items = [100,200,129,456]\n",
    "\n",
    "total_sum  = 0\n",
    "\n",
    "for i in range(len(cost_of_items)):\n",
    "    print(f\"{total_sum} = {total_sum} + {cost_of_items[i]}\")\n",
    "    total_sum = total_sum + cost_of_items[i]\n",
    "    print(f\"Atfer adding total sum = {total_sum}\")\n",
    "    print(\"====\")\n",
    "\n",
    "print(f\"Total amount to be paid: {total_sum}\")"
   ]
  },
  {
   "cell_type": "code",
   "execution_count": 1,
   "metadata": {},
   "outputs": [
    {
     "name": "stdout",
     "output_type": "stream",
     "text": [
      "0 = 0 + 100\n",
      "Atfer adding total sum = 100\n",
      "====\n",
      "100 = 100 + 200\n",
      "Atfer adding total sum = 300\n",
      "====\n",
      "300 = 300 + 129\n",
      "Atfer adding total sum = 429\n",
      "====\n",
      "429 = 429 + 456\n",
      "Atfer adding total sum = 885\n",
      "====\n",
      "Total amount to be paid: 885\n"
     ]
    }
   ],
   "source": [
    "cost_of_items = [100,200,129,456]\n",
    "\n",
    "total_sum  = 0\n",
    "N = len(cost_of_items)\n",
    "\n",
    "for i in range(0,N):\n",
    "    print(f\"{total_sum} = {total_sum} + {cost_of_items[i]}\")\n",
    "    total_sum = total_sum + cost_of_items[i]\n",
    "    print(f\"Atfer adding total sum = {total_sum}\")\n",
    "    print(\"====\")\n",
    "\n",
    "print(f\"Total amount to be paid: {total_sum}\")"
   ]
  },
  {
   "cell_type": "code",
   "execution_count": 2,
   "metadata": {},
   "outputs": [
    {
     "data": {
      "text/plain": [
       "4"
      ]
     },
     "execution_count": 2,
     "metadata": {},
     "output_type": "execute_result"
    }
   ],
   "source": [
    "len(cost_of_items)"
   ]
  },
  {
   "cell_type": "code",
   "execution_count": 6,
   "metadata": {},
   "outputs": [
    {
     "name": "stdout",
     "output_type": "stream",
     "text": [
      "0 = 0 + 100\n",
      "Atfer adding total sum = 100\n",
      "====\n",
      "100 = 100 + 200\n",
      "Atfer adding total sum = 300\n",
      "====\n",
      "300 = 300 + 129\n",
      "Atfer adding total sum = 429\n",
      "====\n",
      "429 = 429 + 456\n",
      "Atfer adding total sum = 885\n",
      "====\n",
      "Total amount to be paid: 885\n"
     ]
    }
   ],
   "source": [
    "cost_of_items = [100,200,129,456]\n",
    "\n",
    "total_sum  = 0\n",
    "\n",
    "\n",
    "for cost in cost_of_items:\n",
    "    print(f\"{total_sum} = {total_sum} + {cost}\")\n",
    "    total_sum = total_sum + cost\n",
    "    print(f\"Atfer adding total sum = {total_sum}\")\n",
    "    print(\"====\")\n",
    "\n",
    "print(f\"Total amount to be paid: {total_sum}\")"
   ]
  },
  {
   "cell_type": "code",
   "execution_count": 8,
   "metadata": {},
   "outputs": [
    {
     "name": "stdout",
     "output_type": "stream",
     "text": [
      "0 = 0 + 100\n",
      "Atfer adding total sum = 100\n",
      "====\n",
      "100 = 100 + 200\n",
      "Atfer adding total sum = 300\n",
      "====\n",
      "300 = 300 + 129\n",
      "Atfer adding total sum = 429\n",
      "====\n",
      "429 = 429 + 456\n",
      "Atfer adding total sum = 885\n",
      "====\n",
      "Total amount to be paid: 885\n"
     ]
    }
   ],
   "source": [
    "cost_of_items = [100,200,129,456]\n",
    "\n",
    "total_sum  = 0\n",
    "N = len(cost_of_items)\n",
    "\n",
    "for cost in range(0,N):\n",
    "    print(f\"{total_sum} = {total_sum} + {cost_of_items[cost]}\")\n",
    "    total_sum = total_sum + cost_of_items[cost]\n",
    "    print(f\"Atfer adding total sum = {total_sum}\")\n",
    "    print(\"====\")\n",
    "\n",
    "print(f\"Total amount to be paid: {total_sum}\")"
   ]
  },
  {
   "cell_type": "code",
   "execution_count": 9,
   "metadata": {},
   "outputs": [
    {
     "name": "stdout",
     "output_type": "stream",
     "text": [
      "100\n",
      "200\n",
      "129\n",
      "456\n"
     ]
    }
   ],
   "source": [
    "cost_of_items = [100,200,129,456]\n",
    "\n",
    "total_sum  = 0\n",
    "\n",
    "\n",
    "for cost in cost_of_items:\n",
    "    print(cost)\n",
    "    "
   ]
  },
  {
   "cell_type": "code",
   "execution_count": null,
   "metadata": {},
   "outputs": [],
   "source": [
    "cost_of_items = [100,200,129,456]\n",
    "\n",
    "total_sum  = 0\n",
    "\n",
    "\n",
    "for cost in cost_of_items:\n",
    "    print(cost)"
   ]
  },
  {
   "cell_type": "code",
   "execution_count": 13,
   "metadata": {},
   "outputs": [
    {
     "name": "stdout",
     "output_type": "stream",
     "text": [
      "100\n",
      "200\n",
      "129\n",
      "456\n"
     ]
    }
   ],
   "source": [
    "cost_of_items = [100,200,129,456]\n",
    "\n",
    "total_sum  = 0\n",
    "N = len(cost_of_items)\n",
    "\n",
    "for cost in range(0,N):\n",
    "    print(cost_of_items[cost])\n",
    "  "
   ]
  },
  {
   "cell_type": "code",
   "execution_count": 14,
   "metadata": {},
   "outputs": [
    {
     "name": "stdout",
     "output_type": "stream",
     "text": [
      "100\n",
      "200\n",
      "129\n",
      "456\n"
     ]
    }
   ],
   "source": [
    "cost_of_items = [100,200,129,456]\n",
    "\n",
    "total_sum  = 0\n",
    "N = len(cost_of_items)\n",
    "\n",
    "for i in range(0,N):\n",
    "    print(cost_of_items[i])\n",
    "  "
   ]
  },
  {
   "cell_type": "code",
   "execution_count": 15,
   "metadata": {},
   "outputs": [
    {
     "name": "stdout",
     "output_type": "stream",
     "text": [
      "current station is: station 01\n",
      "current station is: station 02\n",
      "current station is: station 03\n",
      "current station is: station 04\n"
     ]
    }
   ],
   "source": [
    "stations = [\"station 01\", \"station 02\", \"station 03\", \"station 04\"]\n",
    "\n",
    "for current_station in stations:\n",
    "    print(f\"current station is: {current_station}\")"
   ]
  },
  {
   "cell_type": "code",
   "execution_count": 16,
   "metadata": {},
   "outputs": [],
   "source": [
    "### break and continue"
   ]
  },
  {
   "cell_type": "code",
   "execution_count": 21,
   "metadata": {},
   "outputs": [
    {
     "name": "stdout",
     "output_type": "stream",
     "text": [
      "current total amount: 100\n",
      "current total amount: 300\n",
      "current total amount: 429\n",
      "current total amount: 885\n",
      "current total amount: 1885\n",
      "current total amount: 2084\n",
      "since, current total amount is more than my budget: 2000\n",
      "Please, remove the last item\n",
      "total amount to be paid: 1885\n"
     ]
    }
   ],
   "source": [
    "cost_of_items = [100,200,129,456, 1000, 199, 299]\n",
    "\n",
    "total_sum  = 0\n",
    "budget = 2000\n",
    "\n",
    "for cost in cost_of_items:\n",
    "    total_sum = total_sum + cost\n",
    "    print(f\"current total amount: {total_sum}\")\n",
    "    if total_sum > budget:\n",
    "        total_sum = total_sum - cost\n",
    "        print(f\"since, current total amount is more than my budget: {budget}\")\n",
    "        print(\"Please, remove the last item\")\n",
    "        break\n",
    "\n",
    "print(f\"total amount to be paid: {total_sum}\")"
   ]
  },
  {
   "cell_type": "code",
   "execution_count": 27,
   "metadata": {},
   "outputs": [
    {
     "name": "stdout",
     "output_type": "stream",
     "text": [
      "1\n",
      "2\n",
      "3\n",
      "4\n",
      "5\n",
      "6\n"
     ]
    }
   ],
   "source": [
    "for i in range (1,10):\n",
    "    print(i)\n",
    "    if i > 5:\n",
    "        break\n",
    "\n"
   ]
  },
  {
   "cell_type": "code",
   "execution_count": 31,
   "metadata": {},
   "outputs": [
    {
     "name": "stdout",
     "output_type": "stream",
     "text": [
      "1\n",
      "2\n",
      "3\n",
      "4\n",
      "5\n"
     ]
    }
   ],
   "source": [
    "for i in range (1,10):\n",
    "    print(i)\n",
    "    if i >= 5:\n",
    "        break"
   ]
  },
  {
   "cell_type": "code",
   "execution_count": 30,
   "metadata": {},
   "outputs": [
    {
     "name": "stdout",
     "output_type": "stream",
     "text": [
      "1\n",
      "2\n",
      "3\n",
      "4\n",
      "5\n"
     ]
    }
   ],
   "source": [
    "for i in range (1,10):\n",
    "\n",
    "    if i > 5:\n",
    "        break\n",
    "    print(i)"
   ]
  },
  {
   "cell_type": "code",
   "execution_count": 34,
   "metadata": {},
   "outputs": [
    {
     "name": "stdout",
     "output_type": "stream",
     "text": [
      "1\n",
      "3\n",
      "5\n",
      "7\n",
      "9\n",
      "11\n",
      "13\n",
      "15\n",
      "17\n",
      "19\n"
     ]
    }
   ],
   "source": [
    "for i in range (1,20):\n",
    "\n",
    "    if i%2 == 0:   ## if no. is even, start the loop again\n",
    "        continue\n",
    "    print(i)"
   ]
  },
  {
   "cell_type": "code",
   "execution_count": 35,
   "metadata": {},
   "outputs": [
    {
     "name": "stdout",
     "output_type": "stream",
     "text": [
      "2\n",
      "4\n",
      "6\n",
      "8\n",
      "10\n",
      "12\n",
      "14\n",
      "16\n",
      "18\n"
     ]
    }
   ],
   "source": [
    "for i in range (1,20):\n",
    "\n",
    "    if i%2 != 0:   ## if no. is odd, start the loop again\n",
    "        continue\n",
    "    print(i)"
   ]
  },
  {
   "cell_type": "code",
   "execution_count": 36,
   "metadata": {},
   "outputs": [
    {
     "name": "stdout",
     "output_type": "stream",
     "text": [
      "current station is: station 01\n",
      "current station is: station 02\n",
      "current station is: station 03\n"
     ]
    }
   ],
   "source": [
    "stations = [\"station 01\", \"station 02\", \"station 03\", \"station 04\"]\n",
    "\n",
    "for current_station in stations:\n",
    "    print(f\"current station is: {current_station}\")\n",
    "    if current_station == \"station 03\":\n",
    "        break"
   ]
  },
  {
   "cell_type": "code",
   "execution_count": 37,
   "metadata": {},
   "outputs": [
    {
     "name": "stdout",
     "output_type": "stream",
     "text": [
      "current station is: station 01\n",
      "current station is: station 02\n"
     ]
    }
   ],
   "source": [
    "stations = [\"station 01\", \"station 02\", \"station 03\", \"station 04\"]\n",
    "\n",
    "for current_station in stations:\n",
    "    print(f\"current station is: {current_station}\")\n",
    "    if current_station == \"station 02\":\n",
    "        break"
   ]
  },
  {
   "cell_type": "code",
   "execution_count": 42,
   "metadata": {},
   "outputs": [
    {
     "name": "stdout",
     "output_type": "stream",
     "text": [
      "current station is: station 01\n",
      "current station is: station 03\n",
      "current station is: station 04\n"
     ]
    }
   ],
   "source": [
    "stations = [\"station 01\", \"station 02\", \"station 03\", \"station 04\"]\n",
    "\n",
    "for current_station in stations:\n",
    " \n",
    "    if current_station == \"station 02\":\n",
    "        continue\n",
    "    print(f\"current station is: {current_station}\")"
   ]
  },
  {
   "cell_type": "code",
   "execution_count": 53,
   "metadata": {},
   "outputs": [],
   "source": [
    "### break = it completely stops the loop \n",
    "### continue = it skips the current loop "
   ]
  },
  {
   "cell_type": "code",
   "execution_count": 47,
   "metadata": {},
   "outputs": [],
   "source": [
    "### pass"
   ]
  },
  {
   "cell_type": "code",
   "execution_count": 52,
   "metadata": {},
   "outputs": [],
   "source": [
    "for i in range(1,10):\n",
    "    pass ### I want to write code later"
   ]
  },
  {
   "cell_type": "code",
   "execution_count": 57,
   "metadata": {},
   "outputs": [
    {
     "name": "stdout",
     "output_type": "stream",
     "text": [
      "current station is: station 01\n",
      "current station is: station 02\n",
      "current station is: station 03\n",
      "current station is: station 04\n"
     ]
    }
   ],
   "source": [
    "stations = [\"station 01\", \"station 02\", \"station 03\", \"station 04\"]\n",
    "\n",
    "for current_station in stations:\n",
    " \n",
    "    if current_station == \"station 02\":\n",
    "        pass\n",
    "    print(f\"current station is: {current_station}\")"
   ]
  },
  {
   "cell_type": "code",
   "execution_count": null,
   "metadata": {},
   "outputs": [],
   "source": []
  }
 ],
 "metadata": {
  "kernelspec": {
   "display_name": "Python 3",
   "language": "python",
   "name": "python3"
  },
  "language_info": {
   "codemirror_mode": {
    "name": "ipython",
    "version": 3
   },
   "file_extension": ".py",
   "mimetype": "text/x-python",
   "name": "python",
   "nbconvert_exporter": "python",
   "pygments_lexer": "ipython3",
   "version": "3.11.2"
  },
  "orig_nbformat": 4
 },
 "nbformat": 4,
 "nbformat_minor": 2
}
