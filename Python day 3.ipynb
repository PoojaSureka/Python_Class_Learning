{
 "cells": [
  {
   "attachments": {},
   "cell_type": "markdown",
   "metadata": {},
   "source": [
    "Logical operators\n",
    "(not, and, or)"
   ]
  },
  {
   "cell_type": "code",
   "execution_count": 1,
   "metadata": {},
   "outputs": [
    {
     "name": "stdout",
     "output_type": "stream",
     "text": [
      "True\n"
     ]
    }
   ],
   "source": [
    "start = True\n",
    "print(start)"
   ]
  },
  {
   "cell_type": "code",
   "execution_count": 2,
   "metadata": {},
   "outputs": [
    {
     "name": "stdout",
     "output_type": "stream",
     "text": [
      "False\n"
     ]
    }
   ],
   "source": [
    "start = True\n",
    "print( not start)"
   ]
  },
  {
   "cell_type": "code",
   "execution_count": 6,
   "metadata": {},
   "outputs": [
    {
     "name": "stdout",
     "output_type": "stream",
     "text": [
      "Let's concentrate\n"
     ]
    }
   ],
   "source": [
    "class_started = True\n",
    "\n",
    "if class_started:\n",
    "    print(\"Let's concentrate\")"
   ]
  },
  {
   "cell_type": "code",
   "execution_count": 9,
   "metadata": {},
   "outputs": [
    {
     "name": "stdout",
     "output_type": "stream",
     "text": [
      "Let's concentrate!!\n"
     ]
    }
   ],
   "source": [
    "class_started = True\n",
    "\n",
    "if class_started:\n",
    "    print(\"Let's concentrate!!\")\n",
    "else:\n",
    "    print(\"Let's revise previous class!\")"
   ]
  },
  {
   "cell_type": "code",
   "execution_count": 11,
   "metadata": {},
   "outputs": [
    {
     "name": "stdout",
     "output_type": "stream",
     "text": [
      "Let's revise previous class!\n"
     ]
    }
   ],
   "source": [
    "class_started = False\n",
    "\n",
    "if class_started:\n",
    "    print(\"Let's concentrate\")\n",
    "else:\n",
    "    print(\"Let's revise previous class!\")"
   ]
  },
  {
   "cell_type": "code",
   "execution_count": 13,
   "metadata": {},
   "outputs": [
    {
     "name": "stdout",
     "output_type": "stream",
     "text": [
      "let's do work from home\n"
     ]
    }
   ],
   "source": [
    "raining = True\n",
    "\n",
    "if raining:\n",
    "    print(\"let's do work from home\")\n",
    "else:\n",
    "    print(\"Let's go to office\")"
   ]
  },
  {
   "cell_type": "code",
   "execution_count": 14,
   "metadata": {},
   "outputs": [
    {
     "name": "stdout",
     "output_type": "stream",
     "text": [
      "Let's go to office\n"
     ]
    }
   ],
   "source": [
    "raining = False\n",
    "\n",
    "if raining:\n",
    "    print(\"let's do work from home\")\n",
    "else:\n",
    "    print(\"Let's go to office\")"
   ]
  },
  {
   "cell_type": "code",
   "execution_count": 15,
   "metadata": {},
   "outputs": [
    {
     "name": "stdout",
     "output_type": "stream",
     "text": [
      "since its raining\n",
      "let's do work from home\n"
     ]
    }
   ],
   "source": [
    "raining = True\n",
    "\n",
    "if raining:\n",
    "    print(\"since its raining\")\n",
    "    print(\"let's do work from home\")\n",
    "else:\n",
    "    print(\"since its not raining\")\n",
    "    print(\"Let's go to office\")"
   ]
  },
  {
   "cell_type": "code",
   "execution_count": 16,
   "metadata": {},
   "outputs": [
    {
     "name": "stdout",
     "output_type": "stream",
     "text": [
      "since its not raining\n",
      "Let's go to office\n"
     ]
    }
   ],
   "source": [
    "raining = False\n",
    "\n",
    "if raining:\n",
    "    print(\"since its raining\")\n",
    "    print(\"let's do work from home\")\n",
    "else:\n",
    "    print(\"since its not raining\")\n",
    "    print(\"Let's go to office\")"
   ]
  },
  {
   "cell_type": "code",
   "execution_count": 17,
   "metadata": {},
   "outputs": [
    {
     "name": "stdout",
     "output_type": "stream",
     "text": [
      "since its raining\n",
      "let's do work from home\n"
     ]
    }
   ],
   "source": [
    "raining = True\n",
    "\n",
    "if not raining:\n",
    "    print(\"since its not raining\")\n",
    "    print(\"Let's go to office\")\n",
    "else:\n",
    "    print(\"since its raining\")\n",
    "    print(\"let's do work from home\")"
   ]
  },
  {
   "cell_type": "code",
   "execution_count": 18,
   "metadata": {},
   "outputs": [
    {
     "name": "stdout",
     "output_type": "stream",
     "text": [
      "since its not raining\n",
      "Let's go to office\n"
     ]
    }
   ],
   "source": [
    "raining = False\n",
    "\n",
    "if not raining:\n",
    "    print(\"since its not raining\")\n",
    "    print(\"Let's go to office\")\n",
    "else:\n",
    "    print(\"since its raining\")\n",
    "    print(\"let's do work from home\")"
   ]
  },
  {
   "cell_type": "code",
   "execution_count": 20,
   "metadata": {},
   "outputs": [
    {
     "name": "stdout",
     "output_type": "stream",
     "text": [
      "since class has started\n",
      "Let's focus on class !\n"
     ]
    }
   ],
   "source": [
    "class_started = True\n",
    "\n",
    "if not class_started:\n",
    "    print(\"since class has not started!\")\n",
    "    print(\"Let's revise previous class!\")\n",
    "else:\n",
    "    print(\"since class has started\")\n",
    "    print(\"Let's focus on class !\")"
   ]
  },
  {
   "cell_type": "code",
   "execution_count": 21,
   "metadata": {},
   "outputs": [
    {
     "name": "stdout",
     "output_type": "stream",
     "text": [
      "since class has not started!\n",
      "Let's revise previous class!\n"
     ]
    }
   ],
   "source": [
    "class_started = False\n",
    "\n",
    "if not class_started:\n",
    "    print(\"since class has not started!\")\n",
    "    print(\"Let's revise previous class!\")\n",
    "else:\n",
    "    print(\"since class has started\")\n",
    "    print(\"Let's focus on class !\")"
   ]
  },
  {
   "cell_type": "code",
   "execution_count": 25,
   "metadata": {},
   "outputs": [
    {
     "name": "stdout",
     "output_type": "stream",
     "text": [
      "since class has started !\n",
      "Let's concentrate !\n"
     ]
    }
   ],
   "source": [
    "class_started = True\n",
    "\n",
    "if class_started:\n",
    "    print(\"since class has started !\")\n",
    "    print(\"Let's concentrate !\")\n",
    "else:\n",
    "    print(\"since class has not started!\")\n",
    "    print(\"Let's revise previous class!\")"
   ]
  },
  {
   "cell_type": "code",
   "execution_count": 24,
   "metadata": {},
   "outputs": [
    {
     "name": "stdout",
     "output_type": "stream",
     "text": [
      "since class has not started!\n",
      "Let's revise previous class!\n"
     ]
    }
   ],
   "source": [
    "class_started = False\n",
    "\n",
    "if class_started:\n",
    "    print(\"since class has started\")\n",
    "    print(\"Let's concentrate\")\n",
    "else:\n",
    "    print(\"since class has not started!\")\n",
    "    print(\"Let's revise previous class!\")"
   ]
  },
  {
   "cell_type": "code",
   "execution_count": 30,
   "metadata": {},
   "outputs": [
    {
     "name": "stdout",
     "output_type": "stream",
     "text": [
      "since class has started\n",
      "Let's focus on class !\n"
     ]
    }
   ],
   "source": [
    "class_started = input(\"Hey friend, Is class startes? \")\n",
    "\n",
    "if not class_started:\n",
    "    print(\"since class has not started!\")\n",
    "    print(\"Let's revise previous class!\")\n",
    "else:\n",
    "    print(\"since class has started\")\n",
    "    print(\"Let's focus on class !\")"
   ]
  },
  {
   "attachments": {},
   "cell_type": "markdown",
   "metadata": {},
   "source": [
    " USING AND"
   ]
  },
  {
   "cell_type": "code",
   "execution_count": 36,
   "metadata": {},
   "outputs": [
    {
     "name": "stdout",
     "output_type": "stream",
     "text": [
      "Its a good dish\n",
      "because vegatable present is True\n",
      "and salt present is True\n"
     ]
    }
   ],
   "source": [
    "vegetable_present = True\n",
    "salt_present = True\n",
    "\n",
    "if vegetable_present and salt_present:\n",
    "    print(\"Its a good dish\")\n",
    "    print(f\"because vegatable present is {vegetable_present }\")\n",
    "    print(f\"and salt present is {salt_present }\")\n",
    "else:\n",
    "    print(\"The dish is not good\")\n",
    "    print(f\"because vegatable present is {vegetable_present }\")\n",
    "    print(f\"and salt present is {salt_present }\")"
   ]
  },
  {
   "cell_type": "code",
   "execution_count": 38,
   "metadata": {},
   "outputs": [
    {
     "name": "stdout",
     "output_type": "stream",
     "text": [
      "The dish is not good\n",
      "because vegatable present is False\n",
      "and salt present is True\n"
     ]
    }
   ],
   "source": [
    "vegetable_present = False\n",
    "salt_present = True\n",
    "\n",
    "if vegetable_present and salt_present:\n",
    "    print(\"Its a good dish\")\n",
    "    print(f\"because vegatable present is {vegetable_present }\")\n",
    "    print(f\"and salt present is {salt_present }\")\n",
    "else:\n",
    "    print(\"The dish is not good\")\n",
    "    print(f\"because vegatable present is {vegetable_present }\")\n",
    "    print(f\"and salt present is {salt_present }\")"
   ]
  },
  {
   "cell_type": "code",
   "execution_count": 39,
   "metadata": {},
   "outputs": [
    {
     "name": "stdout",
     "output_type": "stream",
     "text": [
      "The dish is not good\n",
      "because vegatable present is True\n",
      "and salt present is False\n"
     ]
    }
   ],
   "source": [
    "vegetable_present = True\n",
    "salt_present = False\n",
    "\n",
    "if vegetable_present and salt_present:\n",
    "    print(\"Its a good dish\")\n",
    "    print(f\"because vegatable present is {vegetable_present }\")\n",
    "    print(f\"and salt present is {salt_present }\")\n",
    "else:\n",
    "    print(\"The dish is not good\")\n",
    "    print(f\"because vegatable present is {vegetable_present }\")\n",
    "    print(f\"and salt present is {salt_present }\")"
   ]
  },
  {
   "cell_type": "code",
   "execution_count": 40,
   "metadata": {},
   "outputs": [
    {
     "name": "stdout",
     "output_type": "stream",
     "text": [
      "The dish is not good\n",
      "because vegatable present is False\n",
      "and salt present is False\n"
     ]
    }
   ],
   "source": [
    "vegetable_present = False\n",
    "salt_present = False\n",
    "\n",
    "if vegetable_present and salt_present:\n",
    "    print(\"Its a good dish\")\n",
    "    print(f\"because vegatable present is {vegetable_present }\")\n",
    "    print(f\"and salt present is {salt_present }\")\n",
    "else:\n",
    "    print(\"The dish is not good\")\n",
    "    print(f\"because vegatable present is {vegetable_present }\")\n",
    "    print(f\"and salt present is {salt_present }\")"
   ]
  },
  {
   "attachments": {},
   "cell_type": "markdown",
   "metadata": {},
   "source": [
    "USING OR"
   ]
  },
  {
   "cell_type": "code",
   "execution_count": 44,
   "metadata": {},
   "outputs": [
    {
     "name": "stdout",
     "output_type": "stream",
     "text": [
      "I can travel 100 km in a day\n"
     ]
    }
   ],
   "source": [
    "i_own_car =True\n",
    "i_own_bike =True\n",
    "\n",
    "if i_own_car or i_own_bike:\n",
    "    print(\"I can travel 100 km in a day\")\n",
    "else:\n",
    "     print(\"I am stuck, as I don't have car or bike\")\n",
    "    \n"
   ]
  },
  {
   "cell_type": "code",
   "execution_count": 45,
   "metadata": {},
   "outputs": [
    {
     "name": "stdout",
     "output_type": "stream",
     "text": [
      "I can travel 100 km in a day\n"
     ]
    }
   ],
   "source": [
    "i_own_car =True\n",
    "i_own_bike =False\n",
    "\n",
    "if i_own_car or i_own_bike:\n",
    "    print(\"I can travel 100 km in a day\")\n",
    "else:\n",
    "     print(\"I am stuck, as I don't have car or bike\")"
   ]
  },
  {
   "cell_type": "code",
   "execution_count": 46,
   "metadata": {},
   "outputs": [
    {
     "name": "stdout",
     "output_type": "stream",
     "text": [
      "I can travel 100 km in a day\n"
     ]
    }
   ],
   "source": [
    "i_own_car =False\n",
    "i_own_bike =True\n",
    "\n",
    "if i_own_car or i_own_bike:\n",
    "    print(\"I can travel 100 km in a day\")\n",
    "else:\n",
    "     print(\"I am stuck, as I don't have car or bike\")"
   ]
  },
  {
   "cell_type": "code",
   "execution_count": 47,
   "metadata": {},
   "outputs": [
    {
     "name": "stdout",
     "output_type": "stream",
     "text": [
      "I am stuck, as I don't have car or bike\n"
     ]
    }
   ],
   "source": [
    "i_own_car =False\n",
    "i_own_bike =False\n",
    "\n",
    "if i_own_car or i_own_bike:\n",
    "    print(\"I can travel 100 km in a day\")\n",
    "else:\n",
    "     print(\"I am stuck, as I don't have car or bike\")"
   ]
  },
  {
   "cell_type": "code",
   "execution_count": 48,
   "metadata": {},
   "outputs": [],
   "source": [
    "### and operator when we want all the conditions to be true\n",
    "### or operator when we want any one of the condition to be true"
   ]
  },
  {
   "cell_type": "code",
   "execution_count": 54,
   "metadata": {},
   "outputs": [
    {
     "name": "stdout",
     "output_type": "stream",
     "text": [
      "False\n",
      "False\n",
      "The student is not eligible\n"
     ]
    }
   ],
   "source": [
    "attendance = 70\n",
    "assignment_submitted = 40\n",
    "print(attendance >=75)\n",
    "print(assignment_submitted >= 70)\n",
    "\n",
    "if attendance >=75 and assignment_submitted >= 70:\n",
    "    print(\"The student is eligible to appear for a final exam\")\n",
    "else:\n",
    "    print(\"The student is not eligible\")"
   ]
  },
  {
   "cell_type": "code",
   "execution_count": 55,
   "metadata": {},
   "outputs": [
    {
     "name": "stdout",
     "output_type": "stream",
     "text": [
      "True\n",
      "True\n",
      "The student is eligible to appear for a final exam\n"
     ]
    }
   ],
   "source": [
    "attendance = 80\n",
    "assignment_submitted = 85\n",
    "print(attendance >=75)\n",
    "print(assignment_submitted >= 70)\n",
    "\n",
    "if attendance >=75 and assignment_submitted >= 70:\n",
    "    print(\"The student is eligible to appear for a final exam\")\n",
    "else:\n",
    "    print(\"The student is not eligible\")"
   ]
  },
  {
   "cell_type": "code",
   "execution_count": 59,
   "metadata": {},
   "outputs": [
    {
     "name": "stdout",
     "output_type": "stream",
     "text": [
      "attendance criteria met? True\n",
      "assignment criteria met? True\n",
      "The student is eligible to appear for a final exam\n"
     ]
    }
   ],
   "source": [
    "attendance = 80\n",
    "assignment_submitted = 85\n",
    "print(f\"attendance criteria met? {attendance >=75}\")\n",
    "print(f\"assignment criteria met? {assignment_submitted >= 70}\")\n",
    "\n",
    "if attendance >=75 and assignment_submitted >= 70:\n",
    "    print(\"The student is eligible to appear for a final exam\")\n",
    "else:\n",
    "    print(\"The student is not eligible\")"
   ]
  },
  {
   "cell_type": "code",
   "execution_count": 60,
   "metadata": {},
   "outputs": [
    {
     "name": "stdout",
     "output_type": "stream",
     "text": [
      "attendance criteria met? False\n",
      "assignment criteria met? True\n",
      "The student is not eligible\n"
     ]
    }
   ],
   "source": [
    "attendance = 65\n",
    "assignment_submitted = 85\n",
    "print(f\"attendance criteria met? {attendance >=75}\")\n",
    "print(f\"assignment criteria met? {assignment_submitted >= 70}\")\n",
    "\n",
    "if attendance >=75 and assignment_submitted >= 70:\n",
    "    print(\"The student is eligible to appear for a final exam\")\n",
    "else:\n",
    "    print(\"The student is not eligible\")"
   ]
  },
  {
   "cell_type": "code",
   "execution_count": 64,
   "metadata": {},
   "outputs": [
    {
     "name": "stdout",
     "output_type": "stream",
     "text": [
      "Proceed further for payment\n"
     ]
    }
   ],
   "source": [
    "own_credit_card = False\n",
    "own_debit_card = False\n",
    "Net_banking = True \n",
    "if own_credit_card or own_debit_card or Net_banking:\n",
    "    print(\"Proceed further for payment\")\n",
    "else:\n",
    "    print(\"go for cash on delivery option\")"
   ]
  },
  {
   "cell_type": "code",
   "execution_count": 65,
   "metadata": {},
   "outputs": [
    {
     "name": "stdout",
     "output_type": "stream",
     "text": [
      "Proceed further for payment\n"
     ]
    }
   ],
   "source": [
    "own_credit_card = True\n",
    "own_debit_card = False\n",
    " \n",
    "if own_credit_card or own_debit_card:\n",
    "    print(\"Proceed further for payment\")\n",
    "else:\n",
    "    print(\"go for cash on delivery option\")"
   ]
  },
  {
   "cell_type": "code",
   "execution_count": 66,
   "metadata": {},
   "outputs": [
    {
     "name": "stdout",
     "output_type": "stream",
     "text": [
      "go for cash on delivery option\n"
     ]
    }
   ],
   "source": [
    "own_credit_card = False\n",
    "own_debit_card = False\n",
    "Net_banking = False\n",
    "if own_credit_card or own_debit_card or Net_banking:\n",
    "    print(\"Proceed further for payment\")\n",
    "else:\n",
    "    print(\"go for cash on delivery option\")"
   ]
  },
  {
   "cell_type": "code",
   "execution_count": 81,
   "metadata": {},
   "outputs": [
    {
     "name": "stdout",
     "output_type": "stream",
     "text": [
      "attendance criteria met? True\n",
      "assignment criteria met? True\n",
      "sports criteria met? True\n",
      "The student will get a grace mark of = +10\n"
     ]
    }
   ],
   "source": [
    "attendance = 90\n",
    "assignment_submitted = 85\n",
    "sports_player = True\n",
    "\n",
    "print(f\"attendance criteria met? {attendance >=75}\")\n",
    "print(f\"assignment criteria met? {assignment_submitted >= 70}\")\n",
    "print(f\"sports criteria met? {sports_player}\")\n",
    "\n",
    "if attendance >=75 and assignment_submitted >= 70:\n",
    "    if sports_player:\n",
    "        print(\"The student will get a grace mark of = +10\")\n",
    "    else:\n",
    "        print(\"The student is eligible to sit for a exam but will not get any grace mark\")\n",
    "else:\n",
    "    print(\"The student is not eligible\")"
   ]
  },
  {
   "cell_type": "code",
   "execution_count": 82,
   "metadata": {},
   "outputs": [
    {
     "name": "stdout",
     "output_type": "stream",
     "text": [
      "attendance criteria met? True\n",
      "assignment criteria met? True\n",
      "sports criteria met? False\n",
      "The student is eligible to sit for a exam but will not get any grace mark\n"
     ]
    }
   ],
   "source": [
    "attendance = 90\n",
    "assignment_submitted = 85\n",
    "sports_player = False\n",
    "\n",
    "print(f\"attendance criteria met? {attendance >=75}\")\n",
    "print(f\"assignment criteria met? {assignment_submitted >= 70}\")\n",
    "print(f\"sports criteria met? {sports_player}\")\n",
    "\n",
    "if attendance >=75 and assignment_submitted >= 70:\n",
    "    if sports_player:\n",
    "        print(\"The student will get a grace mark of = +10\")\n",
    "    else:\n",
    "        print(\"The student is eligible to sit for a exam but will not get any grace mark\")\n",
    "else:\n",
    "    print(\"The student is not eligible\")"
   ]
  },
  {
   "cell_type": "code",
   "execution_count": 83,
   "metadata": {},
   "outputs": [
    {
     "name": "stdout",
     "output_type": "stream",
     "text": [
      "attendance criteria met? False\n",
      "assignment criteria met? True\n",
      "sports criteria met? True\n",
      "The student is not eligible\n"
     ]
    }
   ],
   "source": [
    "attendance = 60\n",
    "assignment_submitted = 85\n",
    "sports_player = True\n",
    "\n",
    "print(f\"attendance criteria met? {attendance >=75}\")\n",
    "print(f\"assignment criteria met? {assignment_submitted >= 70}\")\n",
    "print(f\"sports criteria met? {sports_player}\")\n",
    "\n",
    "if attendance >=75 and assignment_submitted >= 70:\n",
    "    if sports_player:\n",
    "        print(\"The student will get a grace mark of = +10\")\n",
    "    else:\n",
    "        print(\"The student is eligible to sit for a exam but will not get any grace mark\")\n",
    "else:\n",
    "    print(\"The student is not eligible\")"
   ]
  },
  {
   "cell_type": "code",
   "execution_count": 84,
   "metadata": {},
   "outputs": [
    {
     "name": "stdout",
     "output_type": "stream",
     "text": [
      "attendance criteria met? True\n",
      "assignment criteria met? False\n",
      "sports criteria met? True\n",
      "The student is not eligible\n"
     ]
    }
   ],
   "source": [
    "attendance = 90\n",
    "assignment_submitted = 60\n",
    "sports_player = True\n",
    "\n",
    "print(f\"attendance criteria met? {attendance >=75}\")\n",
    "print(f\"assignment criteria met? {assignment_submitted >= 70}\")\n",
    "print(f\"sports criteria met? {sports_player}\")\n",
    "\n",
    "if attendance >=75 and assignment_submitted >= 70:\n",
    "    if sports_player:\n",
    "        print(\"The student will get a grace mark of = +10\")\n",
    "    else:\n",
    "        print(\"The student is eligible to sit for a exam but will not get any grace mark\")\n",
    "else:\n",
    "    print(\"The student is not eligible\")"
   ]
  },
  {
   "attachments": {},
   "cell_type": "markdown",
   "metadata": {},
   "source": [
    "EQUALITY OPERATORS ------USING IS AND IS NOT "
   ]
  },
  {
   "cell_type": "code",
   "execution_count": 86,
   "metadata": {},
   "outputs": [
    {
     "name": "stdout",
     "output_type": "stream",
     "text": [
      "A and B are same\n"
     ]
    }
   ],
   "source": [
    "A = 1\n",
    "B = 1 \n",
    "\n",
    "if A is B:\n",
    "    print(\"A and B are same\")\n",
    "else:\n",
    "    print(\"A and B are not same\")"
   ]
  },
  {
   "cell_type": "code",
   "execution_count": 87,
   "metadata": {},
   "outputs": [
    {
     "name": "stdout",
     "output_type": "stream",
     "text": [
      "A and B are not same\n"
     ]
    }
   ],
   "source": [
    "A = 1\n",
    "B = 6\n",
    "\n",
    "if A is B:\n",
    "    print(\"A and B are same\")\n",
    "else:\n",
    "    print(\"A and B are not same\")"
   ]
  },
  {
   "cell_type": "code",
   "execution_count": 88,
   "metadata": {},
   "outputs": [
    {
     "name": "stdout",
     "output_type": "stream",
     "text": [
      "A and B are not  same\n"
     ]
    }
   ],
   "source": [
    "A = 1\n",
    "B = 6\n",
    "\n",
    "if A is not  B:\n",
    "    print(\"A and B are not  same\")\n",
    "else:\n",
    "    print(\"A and B are same\")"
   ]
  },
  {
   "cell_type": "code",
   "execution_count": 89,
   "metadata": {},
   "outputs": [
    {
     "name": "stdout",
     "output_type": "stream",
     "text": [
      "A and B are same\n"
     ]
    }
   ],
   "source": [
    "A = 1\n",
    "B = 1\n",
    "\n",
    "if A is not  B:\n",
    "    print(\"A and B are not  same\")\n",
    "else:\n",
    "    print(\"A and B are same\")"
   ]
  },
  {
   "cell_type": "code",
   "execution_count": 93,
   "metadata": {},
   "outputs": [
    {
     "name": "stdout",
     "output_type": "stream",
     "text": [
      "A and B are same\n"
     ]
    }
   ],
   "source": [
    "A = 1\n",
    "B = 1 \n",
    "\n",
    "if A == B:\n",
    "    print(\"A and B are same\")\n",
    "else:\n",
    "    print(\"A and B are not same\")"
   ]
  },
  {
   "cell_type": "code",
   "execution_count": 94,
   "metadata": {},
   "outputs": [
    {
     "name": "stdout",
     "output_type": "stream",
     "text": [
      "140715653788456\n",
      "140715653788456\n"
     ]
    }
   ],
   "source": [
    "print(id(A))\n",
    "print(id(B))"
   ]
  },
  {
   "cell_type": "code",
   "execution_count": 112,
   "metadata": {},
   "outputs": [
    {
     "name": "stdout",
     "output_type": "stream",
     "text": [
      "A and B are not same\n"
     ]
    }
   ],
   "source": [
    "A = 1\n",
    "B = 6\n",
    "\n",
    "if A != B:\n",
    "    print(\"A and B are not same\")\n",
    "else:\n",
    "    print(\"A and B are same\")"
   ]
  },
  {
   "cell_type": "code",
   "execution_count": 113,
   "metadata": {},
   "outputs": [
    {
     "name": "stdout",
     "output_type": "stream",
     "text": [
      "140715653788456\n",
      "140715653788616\n"
     ]
    }
   ],
   "source": [
    "print(id(A))\n",
    "print(id(B))"
   ]
  },
  {
   "cell_type": "code",
   "execution_count": 114,
   "metadata": {},
   "outputs": [
    {
     "name": "stdout",
     "output_type": "stream",
     "text": [
      "False\n",
      "2217606169536\n",
      "2217605853056\n"
     ]
    }
   ],
   "source": [
    "A = [1,2,3]\n",
    "B = [1,2,3]\n",
    "\n",
    "print(A is B)\n",
    "\n",
    "print(id(A))\n",
    "print(id(B))"
   ]
  },
  {
   "cell_type": "code",
   "execution_count": 111,
   "metadata": {},
   "outputs": [],
   "source": [
    "## (is, is not) are used to check memory location \n",
    "## (==,!=) is used to chech the values of the variables."
   ]
  },
  {
   "cell_type": "code",
   "execution_count": 104,
   "metadata": {},
   "outputs": [
    {
     "data": {
      "text/plain": [
       "True"
      ]
     },
     "execution_count": 104,
     "metadata": {},
     "output_type": "execute_result"
    }
   ],
   "source": [
    "A = int(input(\"Enter the value of A: \"))\n",
    "B = int(input(\"Enter the value of B: \"))\n",
    "\n",
    "A is B"
   ]
  },
  {
   "cell_type": "code",
   "execution_count": 106,
   "metadata": {},
   "outputs": [
    {
     "data": {
      "text/plain": [
       "True"
      ]
     },
     "execution_count": 106,
     "metadata": {},
     "output_type": "execute_result"
    }
   ],
   "source": [
    "A = 1\n",
    "B = int(input(\"Enter the value of B: \"))\n",
    "\n",
    "A is B"
   ]
  },
  {
   "cell_type": "code",
   "execution_count": 108,
   "metadata": {},
   "outputs": [
    {
     "name": "stdout",
     "output_type": "stream",
     "text": [
      "she is a student\n"
     ]
    }
   ],
   "source": [
    "name = input(\"Enter your name: \")\n",
    "\n",
    "if name == \"pooja\":\n",
    "    print(\"she is a student\")\n",
    "else:\n",
    "    print(\"she is not a student\")"
   ]
  },
  {
   "cell_type": "code",
   "execution_count": 115,
   "metadata": {},
   "outputs": [
    {
     "name": "stdout",
     "output_type": "stream",
     "text": [
      "False\n",
      "2217605740352\n",
      "2217606172608\n"
     ]
    }
   ],
   "source": [
    "A = [1,2,3]\n",
    "B = [1,2,3]\n",
    "\n",
    "print(A is B)\n",
    "\n",
    "print(id(A))\n",
    "print(id(B))"
   ]
  },
  {
   "attachments": {},
   "cell_type": "markdown",
   "metadata": {},
   "source": [
    "COMPARISION OPERATOR"
   ]
  },
  {
   "cell_type": "code",
   "execution_count": 117,
   "metadata": {},
   "outputs": [
    {
     "name": "stdout",
     "output_type": "stream",
     "text": [
      "attendance criteria met? True\n",
      "assignment criteria met? False\n",
      "The student is not eligible\n"
     ]
    }
   ],
   "source": [
    "attendance = 90\n",
    "assignment_submitted = 40\n",
    "print(f\"attendance criteria met? {attendance >=75}\")\n",
    "print(f\"assignment criteria met? {assignment_submitted >= 70}\")\n",
    "\n",
    "if attendance >=75 and assignment_submitted >= 70:\n",
    "    print(\"The student is eligible to appear for a final exam\")\n",
    "else:\n",
    "    print(\"The student is not eligible\")"
   ]
  },
  {
   "cell_type": "code",
   "execution_count": 119,
   "metadata": {},
   "outputs": [
    {
     "name": "stdout",
     "output_type": "stream",
     "text": [
      "attendance criteria met? True\n",
      "assignment criteria met? True\n",
      "The student is eligible to appear for a final exam\n"
     ]
    }
   ],
   "source": [
    "attendance = 75\n",
    "assignment_submitted = 70\n",
    "print(f\"attendance criteria met? {attendance >=75}\")\n",
    "print(f\"assignment criteria met? {assignment_submitted >= 70}\")\n",
    "\n",
    "if attendance >=75 and assignment_submitted >= 70:\n",
    "    print(\"The student is eligible to appear for a final exam\")\n",
    "else:\n",
    "    print(\"The student is not eligible\")"
   ]
  },
  {
   "cell_type": "code",
   "execution_count": 122,
   "metadata": {},
   "outputs": [
    {
     "name": "stdout",
     "output_type": "stream",
     "text": [
      "since, you have scored: 40, you have passed the exam\n"
     ]
    }
   ],
   "source": [
    "your_score = 40\n",
    "passing_marks = 33.33\n",
    "\n",
    "if your_score > 33.33:\n",
    "    print(f\"since, you have scored: {your_score}, you have passed the exam\")\n",
    "else:\n",
    "    print(\"you should haven taken things seriously\")"
   ]
  },
  {
   "cell_type": "code",
   "execution_count": 123,
   "metadata": {},
   "outputs": [
    {
     "name": "stdout",
     "output_type": "stream",
     "text": [
      "you should haven taken things seriously\n"
     ]
    }
   ],
   "source": [
    "your_score = 30\n",
    "passing_marks = 33.33\n",
    "\n",
    "if your_score > 33.33:\n",
    "    print(f\"since, you have scored: {your_score}, you have passed the exam\")\n",
    "else:\n",
    "    print(\"you should haven taken things seriously\")"
   ]
  },
  {
   "cell_type": "code",
   "execution_count": 125,
   "metadata": {},
   "outputs": [
    {
     "name": "stdout",
     "output_type": "stream",
     "text": [
      "since, you have scored: 90, you have passed the exam\n",
      "You will receive a gift\n"
     ]
    }
   ],
   "source": [
    "your_score = 90\n",
    "passing_marks = 33.33\n",
    "distinction_marks = 75\n",
    "\n",
    "if your_score > 33.33:\n",
    "    print(f\"since, you have scored: {your_score}, you have passed the exam\")\n",
    "    if your_score > distinction_marks:\n",
    "        print(\"You will receive a gift\")\n",
    "else:\n",
    "    print(\"you should haven taken things seriously\")"
   ]
  },
  {
   "cell_type": "code",
   "execution_count": 139,
   "metadata": {},
   "outputs": [
    {
     "name": "stdout",
     "output_type": "stream",
     "text": [
      "since, you have scored: 60, you have passed the exam\n",
      "better luck next time\n"
     ]
    }
   ],
   "source": [
    "your_score = 60\n",
    "passing_marks = 33.33\n",
    "distinction_marks = 75\n",
    "\n",
    "if your_score > 33.33:\n",
    "    print(f\"since, you have scored: {your_score}, you have passed the exam\")\n",
    "    if your_score > distinction_marks:\n",
    "        print(\"You will receive a gift\")\n",
    "    else:\n",
    "        print(\"better luck next time\")\n",
    "else:\n",
    "    print(\"you should haven taken things seriously\")"
   ]
  },
  {
   "cell_type": "code",
   "execution_count": 141,
   "metadata": {},
   "outputs": [
    {
     "name": "stdout",
     "output_type": "stream",
     "text": [
      "since, you have scored: 30, you have not passed the exam\n",
      "You will not receive any kind of gift\n"
     ]
    }
   ],
   "source": [
    "your_score = 30\n",
    "passing_marks = 33.33\n",
    "distinction_marks = 75\n",
    "\n",
    "if your_score < 33.33:\n",
    "    print(f\"since, you have scored: {your_score}, you have not passed the exam\")\n",
    "    if your_score < distinction_marks:\n",
    "        print(\"You will not receive any kind of gift\")\n",
    "    else:\n",
    "        print(\"good job, you will recieve a gift\")\n",
    "else:\n",
    "    print(\"well done\")"
   ]
  }
 ],
 "metadata": {
  "kernelspec": {
   "display_name": "Python 3",
   "language": "python",
   "name": "python3"
  },
  "language_info": {
   "codemirror_mode": {
    "name": "ipython",
    "version": 3
   },
   "file_extension": ".py",
   "mimetype": "text/x-python",
   "name": "python",
   "nbconvert_exporter": "python",
   "pygments_lexer": "ipython3",
   "version": "3.11.2"
  },
  "orig_nbformat": 4
 },
 "nbformat": 4,
 "nbformat_minor": 2
}
