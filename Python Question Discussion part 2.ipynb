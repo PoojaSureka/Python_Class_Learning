{
 "cells": [
  {
   "attachments": {},
   "cell_type": "markdown",
   "metadata": {},
   "source": [
    "21.Accept a phone number as input. A valid phone number should satisfy \n",
    "the following constraints.\n",
    "(1) The number should start with one of these digits: 6, 7, 8, 9\n",
    "(2) The number should be exactly 10 digits long.\n",
    "(3) No digit should appear more than 7 times in the number.\n",
    "(4) No digit should appear more than 5 times in a row in the \n",
    "number.\n",
    "If the fourth condition is not very clear, then consider this example: \n",
    "the number 9888888765 is invalid because the digit 8 appears more \n",
    "than 5 times in a row. Print the string valid if the phone number is \n",
    "valid. If not, print the string invalid."
   ]
  },
  {
   "cell_type": "code",
   "execution_count": 10,
   "metadata": {},
   "outputs": [
    {
     "name": "stdout",
     "output_type": "stream",
     "text": [
      "90777777769446\n",
      "number is invalid\n"
     ]
    }
   ],
   "source": [
    "n = input()\n",
    "print(n)\n",
    "a = False\n",
    "\n",
    "if len(n)==10 and int(n[0]) > 5 and n.isdigit():\n",
    "    for i in range(10):\n",
    "        if n.count(n[i]) < 8:\n",
    "            a = True\n",
    "            if n[i]*6 in n :\n",
    "                a = False\n",
    "                break\n",
    "        else:\n",
    "            break\n",
    "\n",
    "if a :\n",
    "    print(\"number is valid\")\n",
    "else:\n",
    "    print(\"number is invalid\")"
   ]
  },
  {
   "cell_type": "code",
   "execution_count": 12,
   "metadata": {},
   "outputs": [
    {
     "name": "stdout",
     "output_type": "stream",
     "text": [
      "9087654321\n",
      "number is valid\n"
     ]
    }
   ],
   "source": [
    "n = input()\n",
    "print(n)\n",
    "a = False\n",
    "\n",
    "if len(n)==10 and int(n[0]) > 5 and n.isdigit():\n",
    "    for i in range(10):\n",
    "        if n.count(n[i]) < 8:\n",
    "            a = True\n",
    "            if n[i]*6 in n :\n",
    "                a = False\n",
    "                break\n",
    "        else:\n",
    "            break\n",
    "\n",
    "if a :\n",
    "    print(\"number is valid\")\n",
    "else:\n",
    "    print(\"number is invalid\")"
   ]
  },
  {
   "attachments": {},
   "cell_type": "markdown",
   "metadata": {},
   "source": [
    "22. In the first line of input, accept a sequence of space-separated words. In the second line of \n",
    "input, accept a single word. If this word is not present in the sequence, print NO. If this word \n",
    "is present in the sequence, then print YES and in the next line of the output, print the number \n",
    "of times the word appears in the sequence."
   ]
  },
  {
   "cell_type": "code",
   "execution_count": 14,
   "metadata": {},
   "outputs": [
    {
     "name": "stdout",
     "output_type": "stream",
     "text": [
      "['i', 'write', 'code', 'i', 'write', 'code', 'in', 'ineuron']\n",
      "code\n",
      "YES\n",
      "2\n"
     ]
    }
   ],
   "source": [
    "a = input().split(\" \")\n",
    "b = input()\n",
    "print(a)\n",
    "print(b)\n",
    "if b in a:\n",
    "    print(\"YES\")\n",
    "    print(a.count(b))\n",
    "else:\n",
    "    print(\"NO\")\n",
    "        "
   ]
  },
  {
   "attachments": {},
   "cell_type": "markdown",
   "metadata": {},
   "source": [
    "23. Write a function named factorial that accepts an integer n as argument. It should return \n",
    "the factorial of n if n is a positive integer. It should return -1 if n is a negative integer, and it \n",
    "should return 1 if n is zero."
   ]
  },
  {
   "cell_type": "code",
   "execution_count": 17,
   "metadata": {},
   "outputs": [],
   "source": [
    "def factorial(n):\n",
    "    if n < 0:\n",
    "        return -1\n",
    "    elif n==0:\n",
    "        return 1\n",
    "    else:\n",
    "        f = 1\n",
    "        for i in range(1,n+1):\n",
    "            f = f*i\n",
    "        return f"
   ]
  },
  {
   "cell_type": "code",
   "execution_count": 18,
   "metadata": {},
   "outputs": [
    {
     "data": {
      "text/plain": [
       "720"
      ]
     },
     "execution_count": 18,
     "metadata": {},
     "output_type": "execute_result"
    }
   ],
   "source": [
    "factorial(6)"
   ]
  },
  {
   "attachments": {},
   "cell_type": "markdown",
   "metadata": {},
   "source": [
    "24. \n",
    "The range of a list of numbers is the difference between the maximum and minimum values in the list\n",
    "\n",
    "Write a function named get_range that accepts a non-empty list of real numbers as argument. It \n",
    "should return the range of the list.\n",
    "(1) Avoid using built-in function such as max and min.\n",
    "(2) You do not have to accept input from the user or print output to the console. You just have to write \n",
    "the function definition."
   ]
  },
  {
   "cell_type": "code",
   "execution_count": 39,
   "metadata": {},
   "outputs": [],
   "source": [
    "def get_max(l):\n",
    "    max = l[0]\n",
    "    for i in l:\n",
    "        if i > max:\n",
    "            max = i\n",
    "    return max\n",
    "\n",
    "def get_min(l):\n",
    "    min = l[0]\n",
    "    for i in l:\n",
    "        if i < min:\n",
    "            min = i\n",
    "    return min\n",
    "\n",
    "def get_range(l):\n",
    "    max = get_max(l)\n",
    "    min = get_min(l)\n",
    "    return max - min"
   ]
  },
  {
   "cell_type": "code",
   "execution_count": 40,
   "metadata": {},
   "outputs": [
    {
     "data": {
      "text/plain": [
       "8"
      ]
     },
     "execution_count": 40,
     "metadata": {},
     "output_type": "execute_result"
    }
   ],
   "source": [
    "get_range([2,3,4,5,10])"
   ]
  },
  {
   "attachments": {},
   "cell_type": "markdown",
   "metadata": {},
   "source": [
    "25. Write a function named read_file that accepts a text file named filename as argument. Within \n",
    "the function, read the file and print each line of the file on a separate line in the console. You shouldn't \n",
    "print any extra characters at the end of a line. There shouldn't be an empty line between any two \n",
    "consecutive lines.\n",
    "(1) filename is a string variable that holds the name of the file. For example, in the first test case, it \n",
    "is filename = 'public_1.txt'.\n",
    "(2) You do not have to accept input from the console. You have to write the function definition and \n",
    "print the contents of the file within the function"
   ]
  },
  {
   "cell_type": "code",
   "execution_count": 41,
   "metadata": {},
   "outputs": [],
   "source": [
    "def read_file(file: str):\n",
    "    with open(file, \"r\") as f:\n",
    "        lines = f.read()\n",
    "        print(lines)\n"
   ]
  },
  {
   "attachments": {},
   "cell_type": "markdown",
   "metadata": {},
   "source": [
    "26. A simple algorithm has to be designed to find out whether a student \n",
    "belongs to the Data Science branch or not. The input will be a \n",
    "student's roll number, which is of the form BR18B0000. \n",
    "Here, BR represents the branch code, 18 represents the year of \n",
    "joining, B represents the education level and 0000 represents the \n",
    "specific identification given to the student of that batch. The branch \n",
    "code for Data Science is DS. Print True if the student belongs to \n",
    "Data Science branch and False otherwise."
   ]
  },
  {
   "cell_type": "code",
   "execution_count": 45,
   "metadata": {},
   "outputs": [
    {
     "name": "stdout",
     "output_type": "stream",
     "text": [
      "DS18B0000\n",
      "True\n"
     ]
    }
   ],
   "source": [
    "s = input()\n",
    "print(s)\n",
    "\n",
    "if s[0:2] !=\"DS\":\n",
    "    print(\"False\")\n",
    "else:\n",
    "    print(True)"
   ]
  },
  {
   "cell_type": "code",
   "execution_count": 46,
   "metadata": {},
   "outputs": [
    {
     "name": "stdout",
     "output_type": "stream",
     "text": [
      "BR18B0000\n",
      "False\n"
     ]
    }
   ],
   "source": [
    "s = input()\n",
    "print(s)\n",
    "\n",
    "if s[0] !=\"D\" and s[1]!=\"S\":\n",
    "    print(\"False\")\n",
    "else:\n",
    "    print(True)"
   ]
  },
  {
   "attachments": {},
   "cell_type": "markdown",
   "metadata": {},
   "source": [
    "27.The police are trying to track a criminal based on the evidence \n",
    "available at a crime site. Their main clue is a vehicle's damaged \n",
    "number plate. Only the string TN07 is visible. The format of the \n",
    "registration number is AA00AA00, where the first two letters are \n",
    "alphabets, next two are numbers, next two are again alphabets \n",
    "followed by two numbers at the end. A number plate is picked from a \n",
    "database of registration numbers and is given to you as input. Your \n",
    "task is to determine if this could belong to the criminal or not. \n",
    "Print True if the number plate \n",
    "contains TN07 and False otherwise."
   ]
  },
  {
   "cell_type": "code",
   "execution_count": 2,
   "metadata": {},
   "outputs": [
    {
     "name": "stdout",
     "output_type": "stream",
     "text": [
      "AA00AA00\n",
      "False\n"
     ]
    }
   ],
   "source": [
    "n = input()\n",
    "print(n)\n",
    "\n",
    "if n[0:4] == \"TN07\" or n[4:8] == \"TN07\":\n",
    "    print(\"True\")\n",
    "else:\n",
    "    print(\"False\")"
   ]
  },
  {
   "cell_type": "code",
   "execution_count": 3,
   "metadata": {},
   "outputs": [
    {
     "name": "stdout",
     "output_type": "stream",
     "text": [
      "TN07AA00\n",
      "True\n"
     ]
    }
   ],
   "source": [
    "n = input()\n",
    "print(n)\n",
    "\n",
    "if (n[0:4] == \"TN07\") or (n[4:8] == \"TN07\"):\n",
    "    print(\"True\")\n",
    "else:\n",
    "    print(\"False\")  "
   ]
  },
  {
   "attachments": {},
   "cell_type": "markdown",
   "metadata": {},
   "source": [
    "28. You are given a string and two non-negative integers as input. The \n",
    "two integers specify the start and end indices of a substring in the \n",
    "given string. Create a new string by replicating the substring a \n",
    "minimum number of times so that the resulting string is longer than \n",
    "the input string. The input parameters are the string, start index of \n",
    "the substring and the end index of substring (endpoints inclusive) \n",
    "each on a different line."
   ]
  },
  {
   "cell_type": "code",
   "execution_count": 6,
   "metadata": {},
   "outputs": [
    {
     "name": "stdout",
     "output_type": "stream",
     "text": [
      "code\n",
      "2\n",
      "3\n",
      "dedede\n"
     ]
    }
   ],
   "source": [
    "n = input()\n",
    "print(n)\n",
    "a = int(input())\n",
    "print(a)\n",
    "b = int(input())\n",
    "print(b)\n",
    "x = n[a:b+1]\n",
    "y = len(n)\n",
    "ans = \"\"\n",
    "while (y>=len(ans)):\n",
    "    ans = ans + x\n",
    "print(ans)"
   ]
  },
  {
   "attachments": {},
   "cell_type": "markdown",
   "metadata": {},
   "source": [
    "29. A class teacher has decided to split her entire class into four groups, namely Sapphire, Peridot, Ruby, \n",
    "and Emerald for sports competitions. For dividing the students into these four groups, she has \n",
    "followed the pattern given below:\n",
    "Sapphire - 1, 5, 9, 13, 17, 21, ...\n",
    "Peridot - 2, 6, 10, 14, 18, 22, ...\n",
    "Ruby - 3, 7, 11, 15, 19, 23, ...\n",
    "Emerald - 4, 8, 12, 16, 20, 24, ...\n",
    "All the students are represented by their roll numbers. Based on the above pattern, given the roll \n",
    "number as input, print the group the student belongs to. Note that the roll number can be any \n",
    "positive integer and not necessarily less than 25."
   ]
  },
  {
   "cell_type": "code",
   "execution_count": 43,
   "metadata": {},
   "outputs": [
    {
     "name": "stdout",
     "output_type": "stream",
     "text": [
      "22\n",
      "Peridot\n"
     ]
    }
   ],
   "source": [
    "n = int(input())\n",
    "print(n)\n",
    "\n",
    "for i in range(1, n+1, 4):\n",
    "    if n==i:\n",
    "        print(\"Sapphire\")\n",
    "\n",
    "for j in range(2, n+1, 4):\n",
    "    if n==j:\n",
    "        print(\"Peridot\")\n",
    "\n",
    "for k in range(3, n+1, 4):\n",
    "    if n==k:\n",
    "        print(\"Ruby\")\n",
    "    \n",
    "for l in range(4, n+1, 4):\n",
    "    if n==l:\n",
    "        print(\"Emerald\")"
   ]
  },
  {
   "cell_type": "code",
   "execution_count": 59,
   "metadata": {},
   "outputs": [
    {
     "name": "stdout",
     "output_type": "stream",
     "text": [
      "980\n",
      "Emerald\n"
     ]
    }
   ],
   "source": [
    "n = int(input())\n",
    "print(n)\n",
    "\n",
    "for i in range(1, n+1, 4):\n",
    "    if n==i:\n",
    "        print(\"Sapphire\")\n",
    "\n",
    "for j in range(2, n+1, 4):\n",
    "    if n==j:\n",
    "        print(\"Peridot\")\n",
    "\n",
    "for k in range(3, n+1, 4):\n",
    "    if n==k:\n",
    "        print(\"Ruby\")\n",
    "    \n",
    "for l in range(4, n+1, 4):\n",
    "    if n==l:\n",
    "        print(\"Emerald\")"
   ]
  },
  {
   "attachments": {},
   "cell_type": "markdown",
   "metadata": {},
   "source": [
    "30. A data science company wants to hire data scientists from abc college. \n",
    "The company follows a certain criteria for selection: for a student to \n",
    "be selected, the number of backlogs should be at most 5 and the \n",
    "CGPA (Cumulative Grade Point Average) should be greater than 6. If \n",
    "the student does not fit the above criteria, then the student is not \n",
    "offered the job. If the student is selected, then the salary offered is \n",
    "equal to 5 times his/her CGPA (in lakhs).\n",
    "Accept the number of backlogs (integer) and the CGPA (float) of the \n",
    "student as input. Your task is to determine if the student is selected or \n",
    "not. If the student is selected, then print the package. If not, then \n",
    "print the string Not Selected."
   ]
  },
  {
   "cell_type": "code",
   "execution_count": 15,
   "metadata": {},
   "outputs": [
    {
     "name": "stdout",
     "output_type": "stream",
     "text": [
      "4\n",
      "8.0\n",
      "the student is selected\n",
      "the salary offered: 40.0\n"
     ]
    }
   ],
   "source": [
    "back_log = int(input())\n",
    "cgpa = float(input())\n",
    "print(back_log)\n",
    "print(cgpa)\n",
    "\n",
    "\n",
    "if back_log <=5 and cgpa > 6:\n",
    "    print(\"the student is selected\")\n",
    "    print(f\"the salary offered: {5*cgpa}\")\n",
    "else:\n",
    "    print(\"not selected\")"
   ]
  },
  {
   "cell_type": "code",
   "execution_count": 12,
   "metadata": {},
   "outputs": [
    {
     "name": "stdout",
     "output_type": "stream",
     "text": [
      "4\n",
      "9.0\n",
      "45.0\n"
     ]
    }
   ],
   "source": [
    "a = int(input())\n",
    "b = float(input())\n",
    "print(a)\n",
    "print(b)\n",
    "\n",
    "if a<=5 and b> 6:\n",
    "    print(5*b)\n",
    "else:\n",
    "    print(\"not selected\")"
   ]
  },
  {
   "attachments": {},
   "cell_type": "markdown",
   "metadata": {},
   "source": [
    "31. Accept a string as input and print PALINDROME if it is a \n",
    "palindrome, and NOT PALINDROME otherwise"
   ]
  },
  {
   "cell_type": "code",
   "execution_count": 1,
   "metadata": {},
   "outputs": [
    {
     "name": "stdout",
     "output_type": "stream",
     "text": [
      "madam\n",
      "its a palindrone\n"
     ]
    }
   ],
   "source": [
    "s = input()\n",
    "print(s)\n",
    "x = s[: :-1]\n",
    "\n",
    "if s == x:\n",
    "    print(\"its a palindrone\")\n",
    "else:\n",
    "    print(\"its not a palindrone\")"
   ]
  },
  {
   "cell_type": "code",
   "execution_count": 2,
   "metadata": {},
   "outputs": [
    {
     "name": "stdout",
     "output_type": "stream",
     "text": [
      "HELLO\n",
      "NOT PALINDROME\n"
     ]
    }
   ],
   "source": [
    "s = input(\"Enter a string: \")\n",
    "print(s)\n",
    "\n",
    "if s == s[::-1]:\n",
    "    print(\"PALINDROME\")\n",
    "else:\n",
    "    print(\"NOT PALINDROME\")"
   ]
  },
  {
   "cell_type": "code",
   "execution_count": 3,
   "metadata": {},
   "outputs": [],
   "source": [
    "A = \"HELLO\""
   ]
  },
  {
   "cell_type": "code",
   "execution_count": 4,
   "metadata": {},
   "outputs": [
    {
     "data": {
      "text/plain": [
       "'OLLEH'"
      ]
     },
     "execution_count": 4,
     "metadata": {},
     "output_type": "execute_result"
    }
   ],
   "source": [
    "A[::-1]"
   ]
  },
  {
   "attachments": {},
   "cell_type": "markdown",
   "metadata": {},
   "source": [
    "32. In a portal login website, you are asked to write a function get_password_strength to decide \n",
    "the strength of a password. The strength is decided based on the total score of the password, Use \n",
    "following conditions:\n",
    "1) If password has length greater than 7 then score increases by one point.\n",
    "2) If password has at least one upper case and one lower case alphabets score increases by one point.\n",
    "3) If password has at least one number and no consecutive numbers like 12 or 234 then score \n",
    "increases by one point.\n",
    "4) If password has at least one special character (any character other than numbers and alphabets) then \n",
    "score increases by one point.\n",
    "5) If password contains username, then it is invalid password.\n",
    "If the password has score of four points, three points, two points, or one point then print Very \n",
    "Strong, Strong, Moderate, or Weak respectively. If the password is invalid, then \n",
    "print PASSWORD SHOULD NOT CONTAIN USERNAME and If the score is zero, then print Use a \n",
    "different password.The arguments to the function are username and password which are \n",
    "already defined"
   ]
  },
  {
   "cell_type": "code",
   "execution_count": 3,
   "metadata": {},
   "outputs": [],
   "source": [
    "def get_password_strength(username,password):\n",
    "    c=0\n",
    "    capital='ABCDEFGHIJKLMNOPQRSTUVWXYZ'\n",
    "    c_flag=False\n",
    "    small='abcdefghijklmnopqrstuvwxyz'\n",
    "    s_flag=False\n",
    "    num='0123456789'\n",
    "    n_flag=False\n",
    "    nc_flag=True\n",
    "    if username in password:\n",
    "        print('PASSWORD SHOULD NOT CONTAIN USERNAME')\n",
    "        return \n",
    "    if len(password)>7:\n",
    "        c=c+1\n",
    "    for i in range(len(password)):\n",
    "        if password[i] in small:\n",
    "            s_flag=True\n",
    "        elif password[i] in capital:\n",
    "            c_flag=True\n",
    "        elif password[i] in num:\n",
    "            n_flag=True\n",
    "        if n_flag:\n",
    "            if i!=(len(password)-1):\n",
    "                if num[((num.index(password[i]))+1)]==password[i+1]:\n",
    "                        nc_flag=False\n",
    "        if c_flag and s_flag :\n",
    "                        c+=1\n",
    "        if n_flag and nc_flag:\n",
    "                        c+=1\n",
    "        if not password.isalnum():\n",
    "                        c+=1\n",
    "        if c==4:\n",
    "                        print('Very Strong')\n",
    "                        return\n",
    "        if c==3:\n",
    "                        print('Strong')\n",
    "                        return\n",
    "        if c==2:\n",
    "                        print('Moderate')\n",
    "                        return\n",
    "        if c==1:\n",
    "                        print('Weak')\n",
    "                        return\n",
    "        if c==0:\n",
    "                        print('Use a different password')\n",
    "                        return"
   ]
  },
  {
   "cell_type": "code",
   "execution_count": 4,
   "metadata": {},
   "outputs": [
    {
     "name": "stdout",
     "output_type": "stream",
     "text": [
      "Strong\n"
     ]
    }
   ],
   "source": [
    "get_password_strength(\"pooja\", \"1p123@gk787hjl\")\n"
   ]
  },
  {
   "cell_type": "code",
   "execution_count": 5,
   "metadata": {},
   "outputs": [
    {
     "name": "stdout",
     "output_type": "stream",
     "text": [
      "Use a different password\n"
     ]
    }
   ],
   "source": [
    "get_password_strength(\"pooja\", \"p91\")"
   ]
  },
  {
   "cell_type": "code",
   "execution_count": 6,
   "metadata": {},
   "outputs": [
    {
     "name": "stdout",
     "output_type": "stream",
     "text": [
      "PASSWORD SHOULD NOT CONTAIN USERNAME\n"
     ]
    }
   ],
   "source": [
    "get_password_strength(\"pooja\", \"pooja\")"
   ]
  },
  {
   "cell_type": "code",
   "execution_count": null,
   "metadata": {},
   "outputs": [],
   "source": []
  }
 ],
 "metadata": {
  "kernelspec": {
   "display_name": "Python 3",
   "language": "python",
   "name": "python3"
  },
  "language_info": {
   "codemirror_mode": {
    "name": "ipython",
    "version": 3
   },
   "file_extension": ".py",
   "mimetype": "text/x-python",
   "name": "python",
   "nbconvert_exporter": "python",
   "pygments_lexer": "ipython3",
   "version": "3.11.2"
  },
  "orig_nbformat": 4
 },
 "nbformat": 4,
 "nbformat_minor": 2
}
