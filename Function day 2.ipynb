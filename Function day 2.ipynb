{
 "cells": [
  {
   "cell_type": "code",
   "execution_count": 15,
   "metadata": {},
   "outputs": [
    {
     "data": {
      "text/plain": [
       "5"
      ]
     },
     "execution_count": 15,
     "metadata": {},
     "output_type": "execute_result"
    }
   ],
   "source": [
    "len(\"pooja\")"
   ]
  },
  {
   "attachments": {},
   "cell_type": "markdown",
   "metadata": {},
   "source": [
    "1. write a function which will try to find out len of a string without using an inbuilt len function"
   ]
  },
  {
   "cell_type": "code",
   "execution_count": 14,
   "metadata": {},
   "outputs": [],
   "source": [
    "l = \"pooja\"\n",
    "def length(l):\n",
    "    \"\"\" This is a program which will help to find a length of a string\"\"\"\n",
    "    count = 0\n",
    "    for i in l:\n",
    "        if type(i) == str:\n",
    "            count = count + 1\n",
    "    return count"
   ]
  },
  {
   "cell_type": "code",
   "execution_count": 17,
   "metadata": {},
   "outputs": [
    {
     "data": {
      "text/plain": [
       "5"
      ]
     },
     "execution_count": 17,
     "metadata": {},
     "output_type": "execute_result"
    }
   ],
   "source": [
    "length(l)"
   ]
  },
  {
   "cell_type": "code",
   "execution_count": 18,
   "metadata": {},
   "outputs": [
    {
     "data": {
      "text/plain": [
       "19"
      ]
     },
     "execution_count": 18,
     "metadata": {},
     "output_type": "execute_result"
    }
   ],
   "source": [
    "length(\"pooja kumari sureka\")"
   ]
  },
  {
   "cell_type": "code",
   "execution_count": 19,
   "metadata": {},
   "outputs": [],
   "source": [
    "l2 = [1,2,3, \"pooja\", \"sureka\"]"
   ]
  },
  {
   "cell_type": "code",
   "execution_count": 20,
   "metadata": {},
   "outputs": [
    {
     "data": {
      "text/plain": [
       "2"
      ]
     },
     "execution_count": 20,
     "metadata": {},
     "output_type": "execute_result"
    }
   ],
   "source": [
    "length(l2)"
   ]
  },
  {
   "attachments": {},
   "cell_type": "markdown",
   "metadata": {},
   "source": [
    "2. write a function which  will be able to print an index of list element without using an index function"
   ]
  },
  {
   "cell_type": "code",
   "execution_count": 21,
   "metadata": {},
   "outputs": [],
   "source": [
    "l = [1,2,3,4,5,6,7,\"pooja\",\"kumari\", \"sureka\"]\n",
    "\n",
    "def index(l):\n",
    "    for i in range(0,len(l)):\n",
    "        print(l[i], i)"
   ]
  },
  {
   "cell_type": "code",
   "execution_count": 22,
   "metadata": {},
   "outputs": [
    {
     "name": "stdout",
     "output_type": "stream",
     "text": [
      "1 0\n",
      "2 1\n",
      "3 2\n",
      "4 3\n",
      "5 4\n",
      "6 5\n",
      "7 6\n",
      "pooja 7\n",
      "kumari 8\n",
      "sureka 9\n"
     ]
    }
   ],
   "source": [
    "index(l)"
   ]
  },
  {
   "cell_type": "code",
   "execution_count": 32,
   "metadata": {},
   "outputs": [],
   "source": [
    "l = \"pooja\"\n",
    "def length(l):\n",
    "    \"\"\" This is a program which will help to find a length of a string\"\"\"\n",
    "    count = 0\n",
    "    for i in l:\n",
    "        #if type(i) == str:\n",
    "            count = count + 1\n",
    "    return count"
   ]
  },
  {
   "cell_type": "code",
   "execution_count": 35,
   "metadata": {},
   "outputs": [],
   "source": [
    "l = [1,2,3,4,5,6,7,\"pooja\",\"kumari\", \"sureka\"]\n",
    "\n",
    "def index(l):\n",
    "    \"\"\"This function will give the index value of the values stored in the list\"\"\"\n",
    "    for i in range(0,length(l)):\n",
    "        print(l[i], i)"
   ]
  },
  {
   "cell_type": "code",
   "execution_count": 36,
   "metadata": {},
   "outputs": [
    {
     "name": "stdout",
     "output_type": "stream",
     "text": [
      "1 0\n",
      "2 1\n",
      "3 2\n",
      "4 3\n",
      "5 4\n",
      "6 5\n",
      "7 6\n",
      "pooja 7\n",
      "kumari 8\n",
      "sureka 9\n"
     ]
    }
   ],
   "source": [
    "index(l)"
   ]
  },
  {
   "cell_type": "code",
   "execution_count": 39,
   "metadata": {},
   "outputs": [
    {
     "name": "stdout",
     "output_type": "stream",
     "text": [
      "1 0\n",
      "2 1\n",
      "3 2\n",
      "sureka 3\n"
     ]
    }
   ],
   "source": [
    "l2 = [1,2,3,\"sureka\"]\n",
    "index(l2)"
   ]
  },
  {
   "attachments": {},
   "cell_type": "markdown",
   "metadata": {},
   "source": [
    "3. write a function which will be able to print an ip address of your system"
   ]
  },
  {
   "cell_type": "code",
   "execution_count": 46,
   "metadata": {},
   "outputs": [],
   "source": [
    "import socket\n",
    "def test():\n",
    "    ip = socket.gethostbyname(socket.gethostname())\n",
    "    return ip"
   ]
  },
  {
   "cell_type": "code",
   "execution_count": 47,
   "metadata": {},
   "outputs": [
    {
     "data": {
      "text/plain": [
       "'192.168.29.235'"
      ]
     },
     "execution_count": 47,
     "metadata": {},
     "output_type": "execute_result"
    }
   ],
   "source": [
    "test()"
   ]
  },
  {
   "attachments": {},
   "cell_type": "markdown",
   "metadata": {},
   "source": [
    "4. write a function which will shutdown your system"
   ]
  },
  {
   "cell_type": "code",
   "execution_count": 48,
   "metadata": {},
   "outputs": [
    {
     "data": {
      "text/plain": [
       "0"
      ]
     },
     "execution_count": 48,
     "metadata": {},
     "output_type": "execute_result"
    }
   ],
   "source": [
    "import os\n",
    "os.system(\"shutdown /s /t 4\")\n",
    "os.system(\"restart /r /t 4\")\n",
    "\n",
    "# /s - shutdown\n",
    "# /r - restart\n",
    "# /t - timer"
   ]
  },
  {
   "attachments": {},
   "cell_type": "markdown",
   "metadata": {},
   "source": [
    "5. write a function which will take input as a list with any kind of numeric value and give an out as a multiplication of \n",
    "all the numeric data l = [3.5, 6.56, 4,5,\"sudh\" , \"ineuron\" , 'fsda bootcamp 2.0']"
   ]
  },
  {
   "cell_type": "code",
   "execution_count": 6,
   "metadata": {},
   "outputs": [],
   "source": [
    "l = [3.5, 6.56, 4,5,\"sudh\" , \"ineuron\" , 'fsda bootcamp 2.0']\n",
    "\n",
    "def multiply(l):\n",
    "    for i in l:\n",
    "        if type(i) == int or type(i) == float:\n",
    "            print(i*i)"
   ]
  },
  {
   "cell_type": "code",
   "execution_count": 7,
   "metadata": {},
   "outputs": [
    {
     "name": "stdout",
     "output_type": "stream",
     "text": [
      "12.25\n",
      "43.03359999999999\n",
      "16\n",
      "25\n"
     ]
    }
   ],
   "source": [
    "multiply(l)"
   ]
  },
  {
   "cell_type": "code",
   "execution_count": 8,
   "metadata": {},
   "outputs": [],
   "source": [
    "l = [3.5, 6.56, 4,5,\"sudh\" , \"ineuron\" , 'fsda bootcamp 2.0']\n",
    "\n",
    "def multiply(l):\n",
    "    mul = 1\n",
    "    for i in l:\n",
    "        if type(i) == int or type(i) == float:\n",
    "            mul = mul * i\n",
    "    return mul"
   ]
  },
  {
   "cell_type": "code",
   "execution_count": 9,
   "metadata": {},
   "outputs": [
    {
     "data": {
      "text/plain": [
       "459.19999999999993"
      ]
     },
     "execution_count": 9,
     "metadata": {},
     "output_type": "execute_result"
    }
   ],
   "source": [
    "multiply(l)"
   ]
  },
  {
   "attachments": {},
   "cell_type": "markdown",
   "metadata": {},
   "source": [
    "6. write a function which will be able to read all the mails"
   ]
  },
  {
   "cell_type": "code",
   "execution_count": 9,
   "metadata": {},
   "outputs": [
    {
     "name": "stdout",
     "output_type": "stream",
     "text": [
      "LOGIN command error: BAD [b'Too many arguments provided j9mb18201155jak']\n"
     ]
    },
    {
     "name": "stderr",
     "output_type": "stream",
     "text": [
      "Traceback (most recent call last):\n",
      "  File \"C:\\Users\\psure\\AppData\\Local\\Temp\\ipykernel_19772\\4109789528.py\", line 16, in read_email_from_gmail\n",
      "    mail.login(FROM_EMAIL,FROM_PWD)\n",
      "  File \"c:\\python 3.11.12\\Lib\\imaplib.py\", line 610, in login\n",
      "    typ, dat = self._simple_command('LOGIN', user, self._quote(password))\n",
      "               ^^^^^^^^^^^^^^^^^^^^^^^^^^^^^^^^^^^^^^^^^^^^^^^^^^^^^^^^^^\n",
      "  File \"c:\\python 3.11.12\\Lib\\imaplib.py\", line 1230, in _simple_command\n",
      "    return self._command_complete(name, self._command(name, *args))\n",
      "           ^^^^^^^^^^^^^^^^^^^^^^^^^^^^^^^^^^^^^^^^^^^^^^^^^^^^^^^^\n",
      "  File \"c:\\python 3.11.12\\Lib\\imaplib.py\", line 1055, in _command_complete\n",
      "    raise self.error('%s command error: %s %s' % (name, typ, data))\n",
      "imaplib.IMAP4.error: LOGIN command error: BAD [b'Too many arguments provided j9mb18201155jak']\n"
     ]
    }
   ],
   "source": [
    "import smtplib\n",
    "import time\n",
    "import imaplib\n",
    "import email\n",
    "import traceback\n",
    "ORG_EMAIL = \"@gmail.com\" \n",
    "FROM_EMAIL = 'psureka98 @gmail.com'\n",
    "FROM_PWD = 'ojpqcgdfgfhprekaya'\n",
    "SMTP_SERVER = \"imap.gmail.com\" \n",
    "SMTP_PORT = 993\n",
    "imaplib._MAXLINE = 400000000\n",
    "\n",
    "def read_email_from_gmail():\n",
    "    try:\n",
    "        mail = imaplib.IMAP4_SSL(SMTP_SERVER)\n",
    "        mail.login(FROM_EMAIL,FROM_PWD)\n",
    "        mail.select('inbox')\n",
    "\n",
    "        data = mail.search(None, 'ALL')\n",
    "        mail_ids = data[1]\n",
    "        id_list = mail_ids[0].split()   \n",
    "        first_email_id = int(id_list[0])\n",
    "        latest_email_id = int(id_list[-1])\n",
    "\n",
    "        for i in range(latest_email_id,first_email_id, -1):\n",
    "            data = mail.fetch(str(i), '(RFC822)' )\n",
    "            for response_part in data:\n",
    "                arr = response_part[0]\n",
    "                if isinstance(arr, tuple):\n",
    "                    msg = email.message_from_string(str(arr[1],'utf-8'))\n",
    "                    email_subject = msg['subject']\n",
    "                    email_from = msg['from']\n",
    "                    print('From : ' + email_from + '\\n')\n",
    "                    print('Subject : ' + email_subject + '\\n')\n",
    "\n",
    "    except Exception as e:\n",
    "        traceback.print_exc() \n",
    "        print(str(e))\n",
    "\n",
    "read_email_from_gmail()"
   ]
  },
  {
   "attachments": {},
   "cell_type": "markdown",
   "metadata": {},
   "source": [
    "7 . write a function which will be able to send a mail to anyone"
   ]
  },
  {
   "cell_type": "code",
   "execution_count": 7,
   "metadata": {},
   "outputs": [],
   "source": [
    "import smtplib , ssl\n",
    "port = 465  # For SSL\n",
    "smtp_server = \"smtp.gmail.com\"\n",
    "sender_email = \"psureka98@gmail.com\"  # Enter your address\n",
    "receiver_email = \"psureka26@gmail.com\"  # Enter receiver address\n",
    "password = 'ojpqcysodgdfxdbxfbkaya'\n",
    "message = \"\"\"this is my message from python code \"\"\"\n",
    "\n",
    "context = ssl.create_default_context()\n",
    "with smtplib.SMTP_SSL(smtp_server, port, context=context) as server:\n",
    "    server.login(sender_email, password)\n",
    "    server.sendmail(sender_email, receiver_email, message)"
   ]
  },
  {
   "attachments": {},
   "cell_type": "markdown",
   "metadata": {},
   "source": [
    "8. write a function which will be able to read a doc/word file from your system "
   ]
  },
  {
   "cell_type": "code",
   "execution_count": 15,
   "metadata": {},
   "outputs": [
    {
     "name": "stdout",
     "output_type": "stream",
     "text": [
      "Requirement already satisfied: docx2txt in c:\\python 3.11.12\\lib\\site-packages (0.8)\n",
      "import smtplib\n",
      "\n",
      "import time\n",
      "\n",
      "import imaplib\n",
      "\n",
      "import email\n",
      "\n",
      "ORG_EMAIL = \"@gmail.com\" \n",
      "\n",
      "FROM_EMAIL = 'sskumar9876@gmail.com'\n",
      "\n",
      "FROM_PWD = 'rlplfdcsoiqruagn'\n",
      "\n",
      "SMTP_SERVER = \"imap.gmail.com\" \n",
      "\n",
      "SMTP_PORT = 993\n",
      "\n",
      "imaplib._MAXLINE = 400000000\n",
      "\n",
      "\n",
      "\n",
      "def read_email_from_gmail():\n",
      "\n",
      "    try:\n",
      "\n",
      "        mail = imaplib.IMAP4_SSL(SMTP_SERVER)\n",
      "\n",
      "        mail.login(FROM_EMAIL,FROM_PWD)\n",
      "\n",
      "        mail.select('inbox')\n",
      "\n",
      "\n",
      "\n",
      "        data = mail.search(None, 'ALL')\n",
      "\n",
      "        mail_ids = data[1]\n",
      "\n",
      "        id_list = mail_ids[0].split()   \n",
      "\n",
      "        first_email_id = int(id_list[0])\n",
      "\n",
      "        latest_email_id = int(id_list[-1])\n",
      "\n",
      "\n",
      "\n",
      "        for i in range(latest_email_id,first_email_id, -1):\n",
      "\n",
      "            data = mail.fetch(str(i), '(RFC822)' )\n",
      "\n",
      "            for response_part in data:\n",
      "\n",
      "                arr = response_part[0]\n",
      "\n",
      "                if isinstance(arr, tuple):\n",
      "\n",
      "                    msg = email.message_from_string(str(arr[1],'utf-8'))\n",
      "\n",
      "                    email_subject = msg['subject']\n",
      "\n",
      "                    email_from = msg['from']\n",
      "\n",
      "                    print('From : ' + email_from + '\\n')\n",
      "\n",
      "                    print('Subject : ' + email_subject + '\\n')\n",
      "\n",
      "\n",
      "\n",
      "    except Exception as e:\n",
      "\n",
      "        traceback.print_exc() \n",
      "\n",
      "        print(str(e))\n",
      "\n",
      "\n",
      "\n",
      "read_email_from_gmail()\n"
     ]
    }
   ],
   "source": [
    "import docx2txt\n",
    "!pip install docx2txt\n",
    "\n",
    "a = docx2txt.process('import smtplib.docx')\n",
    "print(a)"
   ]
  }
 ],
 "metadata": {
  "kernelspec": {
   "display_name": "Python 3",
   "language": "python",
   "name": "python3"
  },
  "language_info": {
   "codemirror_mode": {
    "name": "ipython",
    "version": 3
   },
   "file_extension": ".py",
   "mimetype": "text/x-python",
   "name": "python",
   "nbconvert_exporter": "python",
   "pygments_lexer": "ipython3",
   "version": "3.11.2"
  },
  "orig_nbformat": 4
 },
 "nbformat": 4,
 "nbformat_minor": 2
}
