{
 "cells": [
  {
   "cell_type": "code",
   "execution_count": 26,
   "metadata": {},
   "outputs": [],
   "source": [
    "### variable case sensitivity \n",
    "TEN = 10\n",
    "ten = 20\n",
    "\n",
    "## TEN and ten both are different in terms of lowercase and uppercase lettetrs"
   ]
  },
  {
   "cell_type": "code",
   "execution_count": 27,
   "metadata": {},
   "outputs": [],
   "source": [
    "### we should not use reserve words as variables\n",
    "## Also, python doesn't restrict the user to use keywords as variable names"
   ]
  },
  {
   "cell_type": "code",
   "execution_count": 28,
   "metadata": {},
   "outputs": [],
   "source": [
    "## Multi assignment of variables\n",
    "a, b, c, d  = 10, 20 , \"Pooja\", True"
   ]
  },
  {
   "cell_type": "code",
   "execution_count": 29,
   "metadata": {},
   "outputs": [
    {
     "name": "stdout",
     "output_type": "stream",
     "text": [
      "<class 'int'>\n",
      "<class 'int'>\n",
      "<class 'str'>\n",
      "<class 'bool'>\n"
     ]
    }
   ],
   "source": [
    "print(type(a))\n",
    "print(type(b))\n",
    "print(type(c))\n",
    "print(type(d))"
   ]
  },
  {
   "cell_type": "code",
   "execution_count": 30,
   "metadata": {},
   "outputs": [
    {
     "name": "stdout",
     "output_type": "stream",
     "text": [
      "10 20 Pooja True\n"
     ]
    }
   ],
   "source": [
    "print(a, b, c, d)"
   ]
  },
  {
   "cell_type": "code",
   "execution_count": 31,
   "metadata": {},
   "outputs": [],
   "source": [
    "a = b= c = 10"
   ]
  },
  {
   "cell_type": "code",
   "execution_count": 32,
   "metadata": {},
   "outputs": [
    {
     "data": {
      "text/plain": [
       "(10, 10, 10)"
      ]
     },
     "execution_count": 32,
     "metadata": {},
     "output_type": "execute_result"
    }
   ],
   "source": [
    "a,b,c"
   ]
  },
  {
   "cell_type": "code",
   "execution_count": 33,
   "metadata": {},
   "outputs": [
    {
     "name": "stdout",
     "output_type": "stream",
     "text": [
      "you name is pooja\n"
     ]
    }
   ],
   "source": [
    "## userinput\n",
    "name = input(\"Enter your name:\")\n",
    "print(f\"you name is {name}\")\n",
    "\n",
    "\n",
    "\n"
   ]
  },
  {
   "cell_type": "code",
   "execution_count": 34,
   "metadata": {},
   "outputs": [
    {
     "name": "stdout",
     "output_type": "stream",
     "text": [
      " sum of A and B is: 66\n"
     ]
    }
   ],
   "source": [
    "A = input(\"Enter the value of A: \")\n",
    "B = input(\"Enter the value of B: \")\n",
    "print(f\" sum of A and B is: {A+B}\")"
   ]
  },
  {
   "cell_type": "code",
   "execution_count": 35,
   "metadata": {},
   "outputs": [
    {
     "name": "stdout",
     "output_type": "stream",
     "text": [
      " sum of A and B is: 78\n"
     ]
    }
   ],
   "source": [
    "A = input(\"Enter the value of A: \")\n",
    "B = input(\"Enter the value of B: \")\n",
    "print(f\" sum of A and B is: {A+B}\")"
   ]
  },
  {
   "cell_type": "code",
   "execution_count": 36,
   "metadata": {},
   "outputs": [
    {
     "name": "stdout",
     "output_type": "stream",
     "text": [
      " sum of A and B is: 17\n"
     ]
    }
   ],
   "source": [
    "A = int(input(\"Enter the value of A: \"))\n",
    "B = int(input(\"Enter the value of B: \"))\n",
    "print(f\" sum of A and B is: {A+B}\")"
   ]
  },
  {
   "cell_type": "code",
   "execution_count": 37,
   "metadata": {},
   "outputs": [
    {
     "name": "stdout",
     "output_type": "stream",
     "text": [
      " sum of A and B is: 8.0\n"
     ]
    }
   ],
   "source": [
    "A = float(input(\"Enter the value of A: \"))\n",
    "B = float(input(\"Enter the value of B: \"))\n",
    "print(f\" sum of A and B is: {A+B}\")"
   ]
  },
  {
   "cell_type": "code",
   "execution_count": 38,
   "metadata": {},
   "outputs": [
    {
     "name": "stdout",
     "output_type": "stream",
     "text": [
      "data type before: <class 'str'>, Value of A: 50 \n",
      "data type after: <class 'int'>, Value of A: 50\n"
     ]
    }
   ],
   "source": [
    "### type coversion\n",
    "#STRING TO INTEGER\n",
    "\n",
    "A= \"50\"\n",
    "print(f\"data type before: {type(A)}, Value of A: {A} \")\n",
    "A= int(A)\n",
    "print(f\"data type after: {type(A)}, Value of A: {A}\")"
   ]
  },
  {
   "cell_type": "code",
   "execution_count": 39,
   "metadata": {},
   "outputs": [
    {
     "name": "stdout",
     "output_type": "stream",
     "text": [
      "data type before: <class 'float'>, Value of A: 50.22\n",
      "data type after: <class 'int'>, Value of A: 50\n"
     ]
    }
   ],
   "source": [
    "# FLOAT TO INTEGER\n",
    "\n",
    "A= 50.22\n",
    "print(f\"data type before: {type(A)}, Value of A: {A}\")\n",
    "A= int(A)\n",
    "print(f\"data type after: {type(A)}, Value of A: {A}\")"
   ]
  },
  {
   "cell_type": "code",
   "execution_count": 40,
   "metadata": {},
   "outputs": [
    {
     "name": "stdout",
     "output_type": "stream",
     "text": [
      "data type before: <class 'int'>, Value of A: 10\n",
      "data type after: <class 'bool'>, Value of A: True\n"
     ]
    }
   ],
   "source": [
    "# INTEGER TO BOOLEAN\n",
    "\n",
    "A= 10\n",
    "print(f\"data type before: {type(A)}, Value of A: {A}\")\n",
    "A= bool(A)\n",
    "print(f\"data type after: {type(A)}, Value of A: {A}\")"
   ]
  },
  {
   "cell_type": "code",
   "execution_count": 41,
   "metadata": {},
   "outputs": [
    {
     "name": "stdout",
     "output_type": "stream",
     "text": [
      "data type before: <class 'int'>, Value of A: 0\n",
      "data type after: <class 'bool'>, Value of A: False\n"
     ]
    }
   ],
   "source": [
    "# INTEGER TO BOOLEAN\n",
    "\n",
    "A= 0\n",
    "print(f\"data type before: {type(A)}, Value of A: {A}\")\n",
    "A= bool(A)\n",
    "print(f\"data type after: {type(A)}, Value of A: {A}\")"
   ]
  },
  {
   "cell_type": "code",
   "execution_count": 69,
   "metadata": {},
   "outputs": [
    {
     "name": "stdout",
     "output_type": "stream",
     "text": [
      "data type before: <class 'int'>, Value of A: 1\n",
      "data type after: <class 'bool'>, Value of A: True\n"
     ]
    }
   ],
   "source": [
    "# INTEGER TO BOOLEAN\n",
    "\n",
    "A= 1\n",
    "print(f\"data type before: {type(A)}, Value of A: {A}\")\n",
    "A= bool(A)\n",
    "print(f\"data type after: {type(A)}, Value of A: {A}\")"
   ]
  },
  {
   "cell_type": "code",
   "execution_count": 42,
   "metadata": {},
   "outputs": [
    {
     "name": "stdout",
     "output_type": "stream",
     "text": [
      "data type before: <class 'int'>, Value of A: -5\n",
      "data type after: <class 'bool'>, Value of A: True\n"
     ]
    }
   ],
   "source": [
    "# INTEGER TO BOOLEAN\n",
    "\n",
    "A= -5\n",
    "print(f\"data type before: {type(A)}, Value of A: {A}\")\n",
    "A= bool(A)\n",
    "print(f\"data type after: {type(A)}, Value of A: {A}\")"
   ]
  },
  {
   "cell_type": "code",
   "execution_count": 43,
   "metadata": {},
   "outputs": [
    {
     "name": "stdout",
     "output_type": "stream",
     "text": [
      "data type before: <class 'str'>, Value of A: Pooja\n",
      "data type after: <class 'bool'>, Value of A: True\n"
     ]
    }
   ],
   "source": [
    "# STRING TO BOOLEAN\n",
    "\n",
    "A= \"Pooja\"\n",
    "print(f\"data type before: {type(A)}, Value of A: {A}\")\n",
    "A= bool(A)\n",
    "print(f\"data type after: {type(A)}, Value of A: {A}\")"
   ]
  },
  {
   "cell_type": "code",
   "execution_count": 44,
   "metadata": {},
   "outputs": [
    {
     "name": "stdout",
     "output_type": "stream",
     "text": [
      "data type before: <class 'str'>, Value of A: True\n",
      "data type after: <class 'bool'>, Value of A: True\n"
     ]
    }
   ],
   "source": [
    "# STRING TO BOOLEAN\n",
    "\n",
    "A= \"True\"\n",
    "print(f\"data type before: {type(A)}, Value of A: {A}\")\n",
    "A= bool(A)\n",
    "print(f\"data type after: {type(A)}, Value of A: {A}\")"
   ]
  },
  {
   "cell_type": "code",
   "execution_count": 45,
   "metadata": {},
   "outputs": [
    {
     "name": "stdout",
     "output_type": "stream",
     "text": [
      "data type before: <class 'str'>, Value of A: False\n",
      "data type after: <class 'bool'>, Value of A: True\n"
     ]
    }
   ],
   "source": [
    "# STRING TO BOOLEAN\n",
    "\n",
    "A= \"False\"\n",
    "print(f\"data type before: {type(A)}, Value of A: {A}\")\n",
    "A= bool(A)\n",
    "print(f\"data type after: {type(A)}, Value of A: {A}\")"
   ]
  },
  {
   "cell_type": "code",
   "execution_count": 46,
   "metadata": {},
   "outputs": [
    {
     "name": "stdout",
     "output_type": "stream",
     "text": [
      "data type before: <class 'bool'>, Value of A: False\n",
      "data type after: <class 'bool'>, Value of A: False\n"
     ]
    }
   ],
   "source": [
    "# STRING TO BOOLEAN\n",
    "\n",
    "A= False\n",
    "print(f\"data type before: {type(A)}, Value of A: {A}\")\n",
    "A= bool(A)\n",
    "print(f\"data type after: {type(A)}, Value of A: {A}\")"
   ]
  },
  {
   "cell_type": "code",
   "execution_count": 47,
   "metadata": {},
   "outputs": [
    {
     "name": "stdout",
     "output_type": "stream",
     "text": [
      "data type before: <class 'str'>, Value of A:  \n",
      "data type after: <class 'bool'>, Value of A: True\n"
     ]
    }
   ],
   "source": [
    "# EMPTY STRING TO BOOLEAN(space)\n",
    "\n",
    "A= \" \"\n",
    "print(f\"data type before: {type(A)}, Value of A: {A}\")\n",
    "A= bool(A)\n",
    "print(f\"data type after: {type(A)}, Value of A: {A}\")"
   ]
  },
  {
   "cell_type": "code",
   "execution_count": 71,
   "metadata": {},
   "outputs": [
    {
     "name": "stdout",
     "output_type": "stream",
     "text": [
      "data type before: <class 'str'>, Value of A: \n",
      "data type after: <class 'bool'>, Value of A: False\n"
     ]
    }
   ],
   "source": [
    "# EMPTY STRING TO BOOLEAN\n",
    "\n",
    "A= \"\"\n",
    "print(f\"data type before: {type(A)}, Value of A: {A}\")\n",
    "A= bool(A)\n",
    "print(f\"data type after: {type(A)}, Value of A: {A}\")"
   ]
  },
  {
   "cell_type": "code",
   "execution_count": 50,
   "metadata": {},
   "outputs": [],
   "source": [
    "firstname, middlename, lastname = \"pooja\", \"kumari\", \"sureka\""
   ]
  },
  {
   "cell_type": "code",
   "execution_count": 52,
   "metadata": {},
   "outputs": [
    {
     "name": "stdout",
     "output_type": "stream",
     "text": [
      "my mail id id pooja.sureka@gmail.com         \n"
     ]
    }
   ],
   "source": [
    "print(f\"my mail id id {firstname}.{lastname}@gmail.com         \")"
   ]
  },
  {
   "cell_type": "code",
   "execution_count": 58,
   "metadata": {},
   "outputs": [],
   "source": [
    "name, place, year_of_birth = \"pooja\", \"Palamu\", 1998"
   ]
  },
  {
   "cell_type": "code",
   "execution_count": 59,
   "metadata": {},
   "outputs": [
    {
     "name": "stdout",
     "output_type": "stream",
     "text": [
      "\n",
      "my name ispooja\n",
      "I live in Palamu\n",
      "my year of birth is 1998\n",
      "\n"
     ]
    }
   ],
   "source": [
    "print(f\"\"\"\n",
    "my name is{name}\n",
    "I live in {place}\n",
    "my year of birth is {year_of_birth}\n",
    "\"\"\")"
   ]
  },
  {
   "cell_type": "code",
   "execution_count": 68,
   "metadata": {},
   "outputs": [
    {
     "name": "stdout",
     "output_type": "stream",
     "text": [
      "pooja\n",
      "palamu\n",
      "1998\n",
      "24\n"
     ]
    }
   ],
   "source": [
    "name = input(\"name:\")\n",
    "place = input(\"place:\")\n",
    "year_of_birth = int(input(\"year_of_birth:\"))\n",
    "current_year = int(input(\"current year: \")) \n",
    "age = current_year - year_of_birth\n",
    "\n",
    "print(name)\n",
    "print(place)\n",
    "print(year_of_birth)\n",
    "print(age)"
   ]
  },
  {
   "cell_type": "code",
   "execution_count": 72,
   "metadata": {},
   "outputs": [],
   "source": [
    "## True in binary = 1\n",
    "### False in binary = 0\n",
    "\n",
    "## converting any non-zero number and string values into boolean will give true as an answer\n",
    "# empty string \"\" will give False an an answer after converting string to a boolean\n",
    "# empty string  with space \" \" will give True an an answer after converting string to a boolean"
   ]
  },
  {
   "cell_type": "code",
   "execution_count": 73,
   "metadata": {},
   "outputs": [],
   "source": [
    "## MEMORY BLOCK"
   ]
  },
  {
   "cell_type": "code",
   "execution_count": 74,
   "metadata": {},
   "outputs": [],
   "source": [
    "a = 22\n",
    "b = 9\n",
    "c = 22"
   ]
  },
  {
   "cell_type": "code",
   "execution_count": 75,
   "metadata": {},
   "outputs": [
    {
     "data": {
      "text/plain": [
       "140709043959240"
      ]
     },
     "execution_count": 75,
     "metadata": {},
     "output_type": "execute_result"
    }
   ],
   "source": [
    "id(a) ### memory address"
   ]
  },
  {
   "cell_type": "code",
   "execution_count": 76,
   "metadata": {},
   "outputs": [
    {
     "data": {
      "text/plain": [
       "140709043958824"
      ]
     },
     "execution_count": 76,
     "metadata": {},
     "output_type": "execute_result"
    }
   ],
   "source": [
    "id(b)"
   ]
  },
  {
   "cell_type": "code",
   "execution_count": 77,
   "metadata": {},
   "outputs": [
    {
     "data": {
      "text/plain": [
       "140709043959240"
      ]
     },
     "execution_count": 77,
     "metadata": {},
     "output_type": "execute_result"
    }
   ],
   "source": [
    "id(c)"
   ]
  },
  {
   "cell_type": "code",
   "execution_count": 80,
   "metadata": {},
   "outputs": [],
   "source": [
    "c = 22+19"
   ]
  },
  {
   "cell_type": "code",
   "execution_count": 81,
   "metadata": {},
   "outputs": [
    {
     "data": {
      "text/plain": [
       "140709043959848"
      ]
     },
     "execution_count": 81,
     "metadata": {},
     "output_type": "execute_result"
    }
   ],
   "source": [
    "id(c)"
   ]
  },
  {
   "cell_type": "code",
   "execution_count": 82,
   "metadata": {},
   "outputs": [
    {
     "data": {
      "text/plain": [
       "140709043959240"
      ]
     },
     "execution_count": 82,
     "metadata": {},
     "output_type": "execute_result"
    }
   ],
   "source": [
    "a = 22\n",
    "id(a)"
   ]
  },
  {
   "cell_type": "code",
   "execution_count": 83,
   "metadata": {},
   "outputs": [
    {
     "data": {
      "text/plain": [
       "140709043961704"
      ]
     },
     "execution_count": 83,
     "metadata": {},
     "output_type": "execute_result"
    }
   ],
   "source": [
    "a = 99\n",
    "id(a)"
   ]
  },
  {
   "cell_type": "code",
   "execution_count": 84,
   "metadata": {},
   "outputs": [],
   "source": [
    "## memory is assigned to the value of variable passed not the variable name"
   ]
  },
  {
   "cell_type": "code",
   "execution_count": 85,
   "metadata": {},
   "outputs": [
    {
     "name": "stdout",
     "output_type": "stream",
     "text": [
      "140709043959240 140709043958824 140709043959240\n"
     ]
    }
   ],
   "source": [
    "a = 22\n",
    "b = 9\n",
    "c = 22\n",
    "\n",
    "print(id(a), id(b), id(c))"
   ]
  },
  {
   "cell_type": "code",
   "execution_count": 86,
   "metadata": {},
   "outputs": [
    {
     "name": "stdout",
     "output_type": "stream",
     "text": [
      "2242150777136 140709043958824 2242150777136\n"
     ]
    }
   ],
   "source": [
    "a = \"pooja\"\n",
    "b = 9\n",
    "c = \"pooja\"\n",
    "\n",
    "print(id(a), id(b), id(c))"
   ]
  },
  {
   "cell_type": "code",
   "execution_count": 87,
   "metadata": {},
   "outputs": [
    {
     "name": "stdout",
     "output_type": "stream",
     "text": [
      "140709042527736 140709043958824 140709042527736\n"
     ]
    }
   ],
   "source": [
    "a = \"p\"\n",
    "b = 9\n",
    "c = \"p\"\n",
    "\n",
    "print(id(a), id(b), id(c))"
   ]
  },
  {
   "cell_type": "code",
   "execution_count": 89,
   "metadata": {},
   "outputs": [
    {
     "name": "stdout",
     "output_type": "stream",
     "text": [
      "2242156066736 140709043958824 140709043958728\n"
     ]
    }
   ],
   "source": [
    "a = 12.98\n",
    "b = 9\n",
    "c = 6\n",
    "\n",
    "print(id(a), id(b), id(c))"
   ]
  },
  {
   "cell_type": "code",
   "execution_count": null,
   "metadata": {},
   "outputs": [],
   "source": []
  }
 ],
 "metadata": {
  "kernelspec": {
   "display_name": "Python 3",
   "language": "python",
   "name": "python3"
  },
  "language_info": {
   "codemirror_mode": {
    "name": "ipython",
    "version": 3
   },
   "file_extension": ".py",
   "mimetype": "text/x-python",
   "name": "python",
   "nbconvert_exporter": "python",
   "pygments_lexer": "ipython3",
   "version": "3.11.2"
  },
  "orig_nbformat": 4
 },
 "nbformat": 4,
 "nbformat_minor": 2
}
