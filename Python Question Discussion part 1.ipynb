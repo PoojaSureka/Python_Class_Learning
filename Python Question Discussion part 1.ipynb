{
 "cells": [
  {
   "attachments": {},
   "cell_type": "markdown",
   "metadata": {},
   "source": [
    "1. Print the first 5 positive integers in ascending order with one number \n",
    "in each line"
   ]
  },
  {
   "cell_type": "code",
   "execution_count": 11,
   "metadata": {},
   "outputs": [
    {
     "name": "stdout",
     "output_type": "stream",
     "text": [
      "[1, 2, 3, 4, 5]\n"
     ]
    }
   ],
   "source": [
    "a = []\n",
    "for i in range(1,6):\n",
    "    a.append(i)\n",
    "print(a)"
   ]
  },
  {
   "cell_type": "code",
   "execution_count": 12,
   "metadata": {},
   "outputs": [
    {
     "name": "stdout",
     "output_type": "stream",
     "text": [
      "1\n",
      "2\n",
      "3\n",
      "4\n",
      "5\n"
     ]
    }
   ],
   "source": [
    "for i in range(5):\n",
    "    print(i+1)"
   ]
  },
  {
   "cell_type": "code",
   "execution_count": 13,
   "metadata": {},
   "outputs": [
    {
     "name": "stdout",
     "output_type": "stream",
     "text": [
      "1\n",
      "2\n",
      "3\n",
      "4\n",
      "5\n"
     ]
    }
   ],
   "source": [
    "i = 1\n",
    "\n",
    "while (i<=5):\n",
    "    print(i)\n",
    "    i +=1\n"
   ]
  },
  {
   "cell_type": "code",
   "execution_count": 14,
   "metadata": {},
   "outputs": [
    {
     "name": "stdout",
     "output_type": "stream",
     "text": [
      "1\n",
      "2\n",
      "3\n",
      "4\n",
      "5\n"
     ]
    }
   ],
   "source": [
    "for i in range(1,6):\n",
    "    print(i)"
   ]
  },
  {
   "cell_type": "code",
   "execution_count": 15,
   "metadata": {},
   "outputs": [],
   "source": [
    "### 2. Print the following pattern\n",
    "### *\n",
    "### **\n",
    "### ***\n",
    "### ****\n",
    "### *****\n",
    "###  There are no spaces between consecutive stars. There are no spaces \n",
    "###  at the end of each line."
   ]
  },
  {
   "cell_type": "code",
   "execution_count": 16,
   "metadata": {},
   "outputs": [
    {
     "name": "stdout",
     "output_type": "stream",
     "text": [
      "*\n",
      "**\n",
      "***\n",
      "****\n",
      "*****\n"
     ]
    }
   ],
   "source": [
    "for i in range(1,6):\n",
    "    print(\"*\"*i)"
   ]
  },
  {
   "cell_type": "code",
   "execution_count": 17,
   "metadata": {},
   "outputs": [
    {
     "name": "stdout",
     "output_type": "stream",
     "text": [
      "*\n",
      "**\n",
      "***\n",
      "****\n",
      "*****\n"
     ]
    }
   ],
   "source": [
    "for i in range(1,6):\n",
    "    for j in range(i):\n",
    "        print(\"*\", end = \"\")\n",
    "    print(\"\")"
   ]
  },
  {
   "attachments": {},
   "cell_type": "markdown",
   "metadata": {},
   "source": [
    "3. Accept an integer as input and print its square as output."
   ]
  },
  {
   "cell_type": "code",
   "execution_count": 18,
   "metadata": {},
   "outputs": [
    {
     "name": "stdout",
     "output_type": "stream",
     "text": [
      "2\n",
      "The square of an integer A: 4\n"
     ]
    }
   ],
   "source": [
    "A = int(input(\"Enter an integer: \"))\n",
    "print(A)\n",
    "square = A ** 2\n",
    "print(f\"The square of an integer A: {square}\")"
   ]
  },
  {
   "attachments": {},
   "cell_type": "markdown",
   "metadata": {},
   "source": [
    "4. Accept two integers as input and print their sum as output."
   ]
  },
  {
   "cell_type": "code",
   "execution_count": 21,
   "metadata": {},
   "outputs": [
    {
     "name": "stdout",
     "output_type": "stream",
     "text": [
      "A: 2\n",
      "B: 5\n",
      "sum of A: 2 and B: 5 is 7\n"
     ]
    }
   ],
   "source": [
    "A = int(input())\n",
    "B = int(input())\n",
    "print(f\"A: {A}\")\n",
    "print(f\"B: {B}\")\n",
    "\n",
    "sum = A + B\n",
    "\n",
    "print(f\"sum of A: {A} and B: {B} is {sum}\")"
   ]
  },
  {
   "attachments": {},
   "cell_type": "markdown",
   "metadata": {},
   "source": [
    "5. Accept two words as input and print the two words after adding a \n",
    "space between them"
   ]
  },
  {
   "cell_type": "code",
   "execution_count": 24,
   "metadata": {},
   "outputs": [
    {
     "name": "stdout",
     "output_type": "stream",
     "text": [
      "word1: pooja\n",
      "word2: sureka\n",
      "pooja sureka\n"
     ]
    }
   ],
   "source": [
    "word1 = input(\"Enter the first word1:\")\n",
    "word2 = input(\"Enter the second word2:\")\n",
    "print(f\"word1: {word1}\")\n",
    "print(f\"word2: {word2}\")\n",
    "\n",
    "print(word1+ \" \" + word2)"
   ]
  },
  {
   "attachments": {},
   "cell_type": "markdown",
   "metadata": {},
   "source": [
    "6. Accept the registration number of a vehicle as input and print its \n",
    "state-code as output."
   ]
  },
  {
   "cell_type": "code",
   "execution_count": 26,
   "metadata": {},
   "outputs": [
    {
     "name": "stdout",
     "output_type": "stream",
     "text": [
      "KA\n"
     ]
    }
   ],
   "source": [
    "registration_number = input()\n",
    "### KA042345\n",
    "print(registration_number[0:2])"
   ]
  },
  {
   "attachments": {},
   "cell_type": "markdown",
   "metadata": {},
   "source": [
    "7.Accept a five-digit number as input and print the sum of its digits as \n",
    "output."
   ]
  },
  {
   "cell_type": "code",
   "execution_count": 38,
   "metadata": {},
   "outputs": [
    {
     "name": "stdout",
     "output_type": "stream",
     "text": [
      "15\n"
     ]
    }
   ],
   "source": [
    "A = input()\n",
    "d1 = int(A[0])\n",
    "d2 = int(A[1])\n",
    "d3 = int(A[2])\n",
    "d4 = int(A[3])\n",
    "d5 = int(A[4])\n",
    "dsum = d1+d2+d3+d4+d5\n",
    "print(dsum)"
   ]
  },
  {
   "cell_type": "code",
   "execution_count": 40,
   "metadata": {},
   "outputs": [
    {
     "name": "stdout",
     "output_type": "stream",
     "text": [
      "1\n",
      "3\n",
      "6\n",
      "10\n",
      "15\n"
     ]
    }
   ],
   "source": [
    "A = input()\n",
    "l = 0\n",
    "for i in A:\n",
    "    l = l + int(i)\n",
    "    print(l)"
   ]
  },
  {
   "cell_type": "code",
   "execution_count": 41,
   "metadata": {},
   "outputs": [
    {
     "name": "stdout",
     "output_type": "stream",
     "text": [
      "15\n"
     ]
    }
   ],
   "source": [
    "A = input()\n",
    "l = 0\n",
    "for i in A:\n",
    "    l = l + int(i)\n",
    "print(l)"
   ]
  },
  {
   "cell_type": "code",
   "execution_count": 42,
   "metadata": {},
   "outputs": [
    {
     "name": "stdout",
     "output_type": "stream",
     "text": [
      "15\n"
     ]
    }
   ],
   "source": [
    "a = input(\"Please enter a number:\")\n",
    "count = 0\n",
    "for i in (a):\n",
    "    count += int(i)\n",
    "print(count)"
   ]
  },
  {
   "attachments": {},
   "cell_type": "markdown",
   "metadata": {},
   "source": [
    "8.Accept five words as input and print the sentence formed by these \n",
    "words after adding a space between consecutive words and a full stop \n",
    "at the end."
   ]
  },
  {
   "cell_type": "code",
   "execution_count": 43,
   "metadata": {},
   "outputs": [
    {
     "name": "stdout",
     "output_type": "stream",
     "text": [
      "my name is pooja sureka.\n"
     ]
    }
   ],
   "source": [
    "word1 = input()\n",
    "word2 = input()\n",
    "word3 = input()\n",
    "word4 = input()\n",
    "word5 = input()\n",
    "space = \" \"\n",
    "stop = \".\"\n",
    "sentence = word1 + space + word2 + space + word3 + space + word4 + space +word5 +stop\n",
    "print(sentence)\n",
    "\n"
   ]
  },
  {
   "attachments": {},
   "cell_type": "markdown",
   "metadata": {},
   "source": [
    "9.Accept the date in DD-MM-YYYY format as input and print the \n",
    "year as output."
   ]
  },
  {
   "cell_type": "code",
   "execution_count": 46,
   "metadata": {},
   "outputs": [
    {
     "name": "stdout",
     "output_type": "stream",
     "text": [
      "1998\n"
     ]
    }
   ],
   "source": [
    "Date = input()\n",
    "\n",
    "year=Date[6:]\n",
    "print(year)"
   ]
  },
  {
   "cell_type": "code",
   "execution_count": 47,
   "metadata": {},
   "outputs": [
    {
     "name": "stdout",
     "output_type": "stream",
     "text": [
      "1998\n"
     ]
    }
   ],
   "source": [
    "Date = input()\n",
    "\n",
    "year=Date[-4:]\n",
    "print(year)"
   ]
  },
  {
   "attachments": {},
   "cell_type": "markdown",
   "metadata": {},
   "source": [
    "10.Accept a sequence of five single digit numbers separated by commas \n",
    "as input. Print the product of all five numbers."
   ]
  },
  {
   "cell_type": "code",
   "execution_count": 61,
   "metadata": {},
   "outputs": [
    {
     "name": "stdout",
     "output_type": "stream",
     "text": [
      "num: 1,2,3,4,5\n",
      "120\n"
     ]
    }
   ],
   "source": [
    "num = input()\n",
    "print(f\"num: {num}\")\n",
    "m = 1\n",
    "for i in num:\n",
    "    if i != \",\":\n",
    "        m = m * int(i)\n",
    "print(m)\n"
   ]
  },
  {
   "attachments": {},
   "cell_type": "markdown",
   "metadata": {},
   "source": [
    "11. Accept two positive integers x and y as input. Print the number of \n",
    "digits in xy (x to the power of y)"
   ]
  },
  {
   "cell_type": "code",
   "execution_count": 81,
   "metadata": {},
   "outputs": [
    {
     "name": "stdout",
     "output_type": "stream",
     "text": [
      "8\n"
     ]
    },
    {
     "data": {
      "text/plain": [
       "NoneType"
      ]
     },
     "execution_count": 81,
     "metadata": {},
     "output_type": "execute_result"
    }
   ],
   "source": [
    "x = int(input())\n",
    "y = int(input())\n",
    "\n",
    "u = print(x**y)\n",
    "type(u)"
   ]
  },
  {
   "cell_type": "code",
   "execution_count": 79,
   "metadata": {},
   "outputs": [
    {
     "name": "stdout",
     "output_type": "stream",
     "text": [
      "x: 5\n",
      "y: 7\n",
      "5\n",
      "The length of given output: 5\n"
     ]
    }
   ],
   "source": [
    "x = int(input())\n",
    "y = int(input())\n",
    "print(f\"x: {x}\")\n",
    "print(f\"y: {y}\")\n",
    "\n",
    "result = (x**y)\n",
    "result_str = str(result)\n",
    "print(len(result_str))\n",
    "\n",
    "print(f\"The length of given output: {len(result_str)}\")\n",
    "\n"
   ]
  },
  {
   "cell_type": "code",
   "execution_count": 83,
   "metadata": {},
   "outputs": [
    {
     "name": "stdout",
     "output_type": "stream",
     "text": [
      "16\n",
      "<class 'NoneType'>\n",
      "<class 'int'>\n",
      "2\n",
      "<class 'str'>\n"
     ]
    }
   ],
   "source": [
    "x = int(input())\n",
    "y = int(input())\n",
    "res = x**y\n",
    "u = print(x**y)\n",
    "print(type(u))\n",
    "print(type(res))\n",
    "res_str = str(res)\n",
    "print(len(res_str))\n",
    "print(type(res_str))"
   ]
  },
  {
   "attachments": {},
   "cell_type": "markdown",
   "metadata": {},
   "source": [
    "12. Accept a string as input. If the input string is of odd length, then \n",
    "continue with it. If the input string is of even length, make the \n",
    "string of odd length as below:\n",
    "• If the last character is a period (.), then remove it \n",
    "• If the last character is not a period, then add a period (.) to the \n",
    "end of the string\n",
    "Call this string of odd length word. Select a substring made up of \n",
    "three consecutive characters from word such that there are an \n",
    "equal number of characters to the left and right of this substring. \n",
    "Print this substring as output. You can assume that all input \n",
    "strings will be in lower case and will have a length of at least four"
   ]
  },
  {
   "cell_type": "code",
   "execution_count": 89,
   "metadata": {},
   "outputs": [
    {
     "data": {
      "text/plain": [
       "'pooj'"
      ]
     },
     "execution_count": 89,
     "metadata": {},
     "output_type": "execute_result"
    }
   ],
   "source": [
    "p = \"pooja\"\n",
    "\n",
    "p[:-1]"
   ]
  },
  {
   "cell_type": "code",
   "execution_count": 90,
   "metadata": {},
   "outputs": [
    {
     "name": "stdout",
     "output_type": "stream",
     "text": [
      "ell\n"
     ]
    }
   ],
   "source": [
    "s = input()\n",
    "n = len(s)\n",
    "\n",
    "if n%2 == 0:\n",
    "    if s[n-1] == \".\":\n",
    "        s = s[:-1]\n",
    "    else:\n",
    "        s = s + \".\"\n",
    "n = int((len(s)-1)/2)\n",
    "print(s[n-1:n+2])\n",
    "\n"
   ]
  },
  {
   "cell_type": "code",
   "execution_count": 91,
   "metadata": {},
   "outputs": [
    {
     "name": "stdout",
     "output_type": "stream",
     "text": [
      "ell\n"
     ]
    }
   ],
   "source": [
    "s = input()\n",
    "n = len(s)\n",
    "\n",
    "if n%2 == 0:\n",
    "    if s[n-1] == \".\":\n",
    "        s = s[:-1]\n",
    "    else:\n",
    "        s = s + \".\"\n",
    "n = int((len(s)-1)/2)\n",
    "print(s[n-1:n+2])"
   ]
  },
  {
   "cell_type": "code",
   "execution_count": 92,
   "metadata": {},
   "outputs": [
    {
     "name": "stdout",
     "output_type": "stream",
     "text": [
      "ooj\n"
     ]
    }
   ],
   "source": [
    "s = input()\n",
    "n = len(s)\n",
    "\n",
    "if n%2 == 0:\n",
    "    if s[n-1] == \".\":\n",
    "        s = s[:-1]\n",
    "    else:\n",
    "        s = s + \".\"\n",
    "n = int((len(s)-1)/2)\n",
    "print(s[n-1:n+2])"
   ]
  },
  {
   "cell_type": "code",
   "execution_count": 93,
   "metadata": {},
   "outputs": [
    {
     "name": "stdout",
     "output_type": "stream",
     "text": [
      "eur\n"
     ]
    }
   ],
   "source": [
    "s = input()\n",
    "n = len(s)\n",
    "\n",
    "if n%2 == 0:\n",
    "    if s[n-1] == \".\":\n",
    "        s = s[:-1]\n",
    "    else:\n",
    "        s = s + \".\"\n",
    "n = int((len(s)-1)/2)\n",
    "print(s[n-1:n+2])"
   ]
  },
  {
   "cell_type": "code",
   "execution_count": 94,
   "metadata": {},
   "outputs": [
    {
     "name": "stdout",
     "output_type": "stream",
     "text": [
      "ell\n"
     ]
    }
   ],
   "source": [
    "s = input()\n",
    "n = len(s)\n",
    "\n",
    "if n%2 == 0:\n",
    "    if s[n-1] == \".\":\n",
    "        s = s[:-1]\n",
    "    else:\n",
    "        s = s + \".\"\n",
    "n = int((n-1)/2)\n",
    "print(s[n-1:n+2])"
   ]
  },
  {
   "cell_type": "code",
   "execution_count": 95,
   "metadata": {},
   "outputs": [
    {
     "name": "stdout",
     "output_type": "stream",
     "text": [
      "ell\n"
     ]
    }
   ],
   "source": [
    "s = input()\n",
    "n = len(s)\n",
    "\n",
    "if n%2 == 0:\n",
    "    if s[n-1] == \".\":\n",
    "        s = s[:-1]\n",
    "    else:\n",
    "        s = s + \".\"\n",
    "n = int((n-1)/2)\n",
    "print(s[n-1:n+2])"
   ]
  },
  {
   "cell_type": "code",
   "execution_count": 96,
   "metadata": {},
   "outputs": [
    {
     "name": "stdout",
     "output_type": "stream",
     "text": [
      "pen\n"
     ]
    }
   ],
   "source": [
    "s = input()\n",
    "n = len(s)\n",
    "\n",
    "if n%2 == 0:\n",
    "    if s[n-1] == \".\":\n",
    "        s = s[:-1]\n",
    "    else:\n",
    "        s = s + \".\"\n",
    "n = int((n-1)/2)\n",
    "print(s[n-1:n+2])"
   ]
  },
  {
   "attachments": {},
   "cell_type": "markdown",
   "metadata": {},
   "source": [
    "13. Accept three positive integers as input and check if they form the \n",
    "sides of a right triangle. Print YES if they form one, and NO is they do \n",
    "not. The input will have three lines, with one integer on each line. \n",
    "The output should be a single line containing one of these two \n",
    "strings: YES or NO."
   ]
  },
  {
   "cell_type": "code",
   "execution_count": 104,
   "metadata": {},
   "outputs": [
    {
     "name": "stdout",
     "output_type": "stream",
     "text": [
      "x: 3\n",
      "y: 4\n",
      "z: 5\n",
      "YES\n"
     ]
    }
   ],
   "source": [
    "x = int(input())\n",
    "y = int(input())\n",
    "z = int(input())\n",
    "print(f\"x: {x}\")\n",
    "print(f\"y: {y}\")\n",
    "print(f\"z: {z}\")\n",
    "\n",
    "if ((x**2 + y**2 == z**2) or \n",
    "    (y**2 + z**2 == x**2) or \n",
    "    (z**2 + x**2 == y**2)):\n",
    "    print(\"YES\")\n",
    "else:\n",
    "    print(\"NO\")"
   ]
  },
  {
   "attachments": {},
   "cell_type": "markdown",
   "metadata": {},
   "source": [
    "14. EvenOdd is a tech startup. Each employee at the startup is given an employee id which is a unique \n",
    "positive integer. On one warm Sunday evening, five employees of the company come together for a \n",
    "meeting and sit at a circular table:\n",
    "The employees follow a strange convention. They will continue the meeting only if the following \n",
    "condition is satisfied.\n",
    "The sum of the employee-ids of every pair of adjacent employees at the table must be an even \n",
    "number.\n",
    "They are so lazy that they won’t move around to satisfy the above condition, If the current seating \n",
    "plan doesn’t satisfy the condition, the meeting will be cancelled. You are given the employee-id of all \n",
    "five employees. Your task is to decide if the meeting happened or not.\n",
    "The input will be five lined, each containing an integer. The ith line will have the employee-id of Ei. \n",
    "The output will be a single line containing one of these two strings: YES or NO"
   ]
  },
  {
   "cell_type": "code",
   "execution_count": 3,
   "metadata": {},
   "outputs": [
    {
     "name": "stdout",
     "output_type": "stream",
     "text": [
      "2\n",
      "4\n",
      "6\n",
      "8\n",
      "10\n",
      "YES\n"
     ]
    }
   ],
   "source": [
    "emp1 = int(input())\n",
    "emp2 = int(input())\n",
    "emp3 = int(input())\n",
    "emp4 = int(input())\n",
    "emp5 = int(input())\n",
    "\n",
    "print(emp1)\n",
    "print(emp2)\n",
    "print(emp3)\n",
    "print(emp4)\n",
    "print(emp5)\n",
    "\n",
    "if ((emp1+emp2)%2==0 and \n",
    "   (emp2+emp3)%2==0 and\n",
    "   (emp3+emp4)%2==0 and\n",
    "   (emp4+emp5)%2==0 and\n",
    "   (emp5+emp1)%2==0 ):\n",
    "    print(\"YES\")\n",
    "else:\n",
    "    print(\"NO\")"
   ]
  },
  {
   "cell_type": "code",
   "execution_count": 4,
   "metadata": {},
   "outputs": [
    {
     "name": "stdout",
     "output_type": "stream",
     "text": [
      "1\n",
      "2\n",
      "3\n",
      "4\n",
      "5\n",
      "NO\n"
     ]
    }
   ],
   "source": [
    "emp1 = int(input())\n",
    "emp2 = int(input())\n",
    "emp3 = int(input())\n",
    "emp4 = int(input())\n",
    "emp5 = int(input())\n",
    "\n",
    "print(emp1)\n",
    "print(emp2)\n",
    "print(emp3)\n",
    "print(emp4)\n",
    "print(emp5)\n",
    "\n",
    "if ((emp1+emp2)%2==0 and \n",
    "   (emp2+emp3)%2==0 and\n",
    "   (emp3+emp4)%2==0 and\n",
    "   (emp4+emp5)%2==0 and\n",
    "   (emp5+emp1)%2==0 ):\n",
    "    print(\"YES\")\n",
    "else:\n",
    "    print(\"NO\")\n"
   ]
  },
  {
   "cell_type": "code",
   "execution_count": 9,
   "metadata": {},
   "outputs": [
    {
     "name": "stdout",
     "output_type": "stream",
     "text": [
      "2\n",
      "4\n",
      "6\n",
      "8\n",
      "10\n",
      "Meeting happened\n"
     ]
    }
   ],
   "source": [
    "emp1 = int(input())\n",
    "emp2 = int(input())\n",
    "emp3 = int(input())\n",
    "emp4 = int(input())\n",
    "emp5 = int(input())\n",
    "\n",
    "print(emp1)\n",
    "print(emp2)\n",
    "print(emp3)\n",
    "print(emp4)\n",
    "print(emp5)\n",
    "\n",
    "if (emp1+emp2)%2==0 and (emp2+emp3)%2==0 and (emp3+emp4)%2==0 and (emp4+emp5)%2==0 and (emp5+emp1)%2==0:\n",
    "    print(\"Meeting happened\")\n",
    "else:\n",
    "    print(\"Meeting not happened\")"
   ]
  },
  {
   "cell_type": "code",
   "execution_count": 10,
   "metadata": {},
   "outputs": [
    {
     "name": "stdout",
     "output_type": "stream",
     "text": [
      "1\n",
      "2\n",
      "3\n",
      "4\n",
      "5\n",
      "Meeting not happened\n"
     ]
    }
   ],
   "source": [
    "emp1 = int(input())\n",
    "emp2 = int(input())\n",
    "emp3 = int(input())\n",
    "emp4 = int(input())\n",
    "emp5 = int(input())\n",
    "\n",
    "print(emp1)\n",
    "print(emp2)\n",
    "print(emp3)\n",
    "print(emp4)\n",
    "print(emp5)\n",
    "\n",
    "if (emp1+emp2)%2==0 and (emp2+emp3)%2==0 and (emp3+emp4)%2==0 and (emp4+emp5)%2==0 and (emp5+emp1)%2==0:\n",
    "    print(\"Meeting happened\")\n",
    "else:\n",
    "    print(\"Meeting not happened\")"
   ]
  },
  {
   "attachments": {},
   "cell_type": "markdown",
   "metadata": {},
   "source": [
    "15. Accept a string as input and print the vowels present in the string in \n",
    "alphabetical order. If the string doesn’t contain any vowels, then \n",
    "print the string none as output. Each vowel that appears in the input \n",
    "string – irrespective of its case should appear just once in lower case \n",
    "in the output"
   ]
  },
  {
   "cell_type": "code",
   "execution_count": 14,
   "metadata": {},
   "outputs": [
    {
     "name": "stdout",
     "output_type": "stream",
     "text": [
      "['p', 'o', 'o', 'j', 'a']\n",
      "Vowels found are: ['o', 'o', 'a']\n"
     ]
    }
   ],
   "source": [
    "str = input()\n",
    "l = list(str)\n",
    "print(l)\n",
    "vowels = [\"a\", \"e\", \"i\", \"o\", \"u\"]\n",
    "\n",
    "output = []\n",
    "for i in l:\n",
    "    if i in vowels:\n",
    "        output.append(i)\n",
    "print(f\"Vowels found are: {output}\")"
   ]
  },
  {
   "cell_type": "code",
   "execution_count": 17,
   "metadata": {},
   "outputs": [
    {
     "name": "stdout",
     "output_type": "stream",
     "text": [
      "['i', 'n', 'e', 'u', 'r', 'o', 'n']\n",
      "Vowels found are: ['i', 'e', 'u', 'o']\n"
     ]
    }
   ],
   "source": [
    "str = input()\n",
    "l = list(str)\n",
    "print(l)\n",
    "vowels = [\"a\", \"e\", \"i\", \"o\", \"u\"]\n",
    "\n",
    "output = []\n",
    "for i in l:\n",
    "    if i in vowels:\n",
    "        output.append(i)\n",
    "print(f\"Vowels found are: {output}\")"
   ]
  },
  {
   "cell_type": "code",
   "execution_count": 27,
   "metadata": {},
   "outputs": [
    {
     "name": "stdout",
     "output_type": "stream",
     "text": [
      "hhhh\n",
      "None\n"
     ]
    }
   ],
   "source": [
    "input_string  = input().lower()\n",
    "print(input_string)\n",
    "vowels = \"\"\n",
    "\n",
    "if \"a\" in input_string:\n",
    "    vowels  += \"a\"\n",
    "if \"e\" in input_string:\n",
    "    vowels  += \"e\" \n",
    "if \"i\" in input_string:\n",
    "    vowels  += \"i\"\n",
    "if \"o\" in input_string:\n",
    "    vowels  += \"o\" \n",
    "if \"u\" in input_string:\n",
    "    vowels  += \"u\"     \n",
    "\n",
    "if vowels != \"\":\n",
    "    print(vowels)\n",
    "else:\n",
    "    print(None)"
   ]
  },
  {
   "cell_type": "code",
   "execution_count": 26,
   "metadata": {},
   "outputs": [
    {
     "name": "stdout",
     "output_type": "stream",
     "text": [
      "ineuron\n",
      "eiou\n"
     ]
    }
   ],
   "source": [
    "input_string  = input().lower()\n",
    "print(input_string)\n",
    "vowels = \"\"\n",
    "\n",
    "if \"a\" in input_string:\n",
    "    vowels  += \"a\"\n",
    "if \"e\" in input_string:\n",
    "    vowels  += \"e\" \n",
    "if \"i\" in input_string:\n",
    "    vowels  += \"i\"\n",
    "if \"o\" in input_string:\n",
    "    vowels  += \"o\" \n",
    "if \"u\" in input_string:\n",
    "    vowels  += \"u\"     \n",
    "\n",
    "if vowels != \"\":\n",
    "    print(vowels)\n",
    "else:\n",
    "    print(None)"
   ]
  },
  {
   "attachments": {},
   "cell_type": "markdown",
   "metadata": {},
   "source": [
    "16.You are given the date of birth of two persons, not necessarily from \n",
    "the same family. Your task is to find the younger of the two. If both \n",
    "of them share the same date of birth, then the younger of the two is \n",
    "assumed to be that person whose name comes first in alphabetical \n",
    "order.\n",
    "The input will have four lines. The first two lines correspond to the \n",
    "first person, while the last two lines correspond to the second \n",
    "person. For each person, the first line corresponds to the name and \n",
    "the second line corresponds to the date of birth in “DD-MM-YYYY” \n",
    "format. Your output should be the name of the younger of the two."
   ]
  },
  {
   "cell_type": "code",
   "execution_count": 6,
   "metadata": {},
   "outputs": [
    {
     "name": "stdout",
     "output_type": "stream",
     "text": [
      "pooja\n",
      "26-09-1998\n",
      "pooo\n",
      "24-09-1998\n",
      "pooja\n"
     ]
    }
   ],
   "source": [
    "n1 = input()\n",
    "d1= input()\n",
    "print(n1)\n",
    "print(d1)\n",
    "\n",
    "n2 = input()\n",
    "d2 = input()\n",
    "print(n2)\n",
    "print(d2)\n",
    "\n",
    "if d1 == d2:\n",
    "    if n1<n2:\n",
    "        print(n1)\n",
    "    else:\n",
    "        print(n2)\n",
    "elif d1[-4:] != d2[-4:]:\n",
    "    if int(d1[-4:]) < int(d2[-4:]):\n",
    "        print(n2)\n",
    "    else:\n",
    "        print(n1)\n",
    "elif d1[3:5] != d2[3:5]:\n",
    "    if int(d1[-4:]) < int(d2[-4:]):\n",
    "        print(n2)\n",
    "    else:\n",
    "        print(n1)\n",
    "elif d1[0:2] != d2[0:2]:\n",
    "    if int(d1[0:2]) < int(d2[0:2]):\n",
    "        print(n2)\n",
    "    else:\n",
    "        print(n1)"
   ]
  },
  {
   "cell_type": "code",
   "execution_count": 7,
   "metadata": {},
   "outputs": [
    {
     "name": "stdout",
     "output_type": "stream",
     "text": [
      "pooja\n",
      "26-09-1998\n",
      "pooo\n",
      "26-04-1998\n",
      "pooja\n"
     ]
    }
   ],
   "source": [
    "n1 = input()\n",
    "d1= input()\n",
    "print(n1)\n",
    "print(d1)\n",
    "\n",
    "n2 = input()\n",
    "d2 = input()\n",
    "print(n2)\n",
    "print(d2)\n",
    "\n",
    "if d1 == d2:\n",
    "    if n1<n2:\n",
    "        print(n1)\n",
    "    else:\n",
    "        print(n2)\n",
    "elif d1[-4:] != d2[-4:]:\n",
    "    if int(d1[-4:]) < int(d2[-4:]):\n",
    "        print(n2)\n",
    "    else:\n",
    "        print(n1)\n",
    "elif d1[3:5] != d2[3:5]:\n",
    "    if int(d1[-4:]) < int(d2[-4:]):\n",
    "        print(n2)\n",
    "    else:\n",
    "        print(n1)\n",
    "elif d1[0:2] != d2[0:2]:\n",
    "    if int(d1[0:2]) < int(d2[0:2]):\n",
    "        print(n2)\n",
    "    else:\n",
    "        print(n1)"
   ]
  },
  {
   "cell_type": "code",
   "execution_count": 8,
   "metadata": {},
   "outputs": [
    {
     "name": "stdout",
     "output_type": "stream",
     "text": [
      "pooja\n",
      "26-09-1998\n",
      "poooo\n",
      "26-09-2001\n",
      "poooo\n"
     ]
    }
   ],
   "source": [
    "n1 = input()\n",
    "d1= input()\n",
    "print(n1)\n",
    "print(d1)\n",
    "\n",
    "n2 = input()\n",
    "d2 = input()\n",
    "print(n2)\n",
    "print(d2)\n",
    "\n",
    "if d1 == d2:\n",
    "    if n1<n2:\n",
    "        print(n1)\n",
    "    else:\n",
    "        print(n2)\n",
    "elif d1[-4:] != d2[-4:]:\n",
    "    if int(d1[-4:]) < int(d2[-4:]):\n",
    "        print(n2)\n",
    "    else:\n",
    "        print(n1)\n",
    "elif d1[3:5] != d2[3:5]:\n",
    "    if int(d1[-4:]) < int(d2[-4:]):\n",
    "        print(n2)\n",
    "    else:\n",
    "        print(n1)\n",
    "elif d1[0:2] != d2[0:2]:\n",
    "    if int(d1[0:2]) < int(d2[0:2]):\n",
    "        print(n2)\n",
    "    else:\n",
    "        print(n1)"
   ]
  },
  {
   "cell_type": "code",
   "execution_count": 9,
   "metadata": {},
   "outputs": [
    {
     "name": "stdout",
     "output_type": "stream",
     "text": [
      "pooja\n",
      "26-09-1998\n",
      "poooo\n",
      "26-09-1998\n",
      "pooja\n"
     ]
    }
   ],
   "source": [
    "n1 = input()\n",
    "d1= input()\n",
    "print(n1)\n",
    "print(d1)\n",
    "\n",
    "n2 = input()\n",
    "d2 = input()\n",
    "print(n2)\n",
    "print(d2)\n",
    "\n",
    "if d1 == d2:\n",
    "    if n1<n2:\n",
    "        print(n1)\n",
    "    else:\n",
    "        print(n2)\n",
    "elif d1[-4:] != d2[-4:]:\n",
    "    if int(d1[-4:]) < int(d2[-4:]):\n",
    "        print(n2)\n",
    "    else:\n",
    "        print(n1)\n",
    "elif d1[3:5] != d2[3:5]:\n",
    "    if int(d1[-4:]) < int(d2[-4:]):\n",
    "        print(n2)\n",
    "    else:\n",
    "        print(n1)\n",
    "elif d1[0:2] != d2[0:2]:\n",
    "    if int(d1[0:2]) < int(d2[0:2]):\n",
    "        print(n2)\n",
    "    else:\n",
    "        print(n1)"
   ]
  },
  {
   "attachments": {},
   "cell_type": "markdown",
   "metadata": {},
   "source": [
    "17.Accept a string as input. Your task is to determine if the input string is a valid password or not. For a \n",
    "string to be a valid password, it must satisfy all the conditions given below:\n",
    "(1) It should have at least 8 and at most 32 characters\n",
    "(2) It should start with an uppercase or lowercase letter\n",
    "(3) It should not have any of these characters: / \\ = ' \"\n",
    "(4) It should not have spaces\n",
    "It could have any character that is not mentioned in the list of characters to be avoided (points 3 and \n",
    "4). Output True if the string forms a valid password and False otherwise"
   ]
  },
  {
   "cell_type": "code",
   "execution_count": 23,
   "metadata": {},
   "outputs": [
    {
     "name": "stdout",
     "output_type": "stream",
     "text": [
      "GHoi98907gkbhjgk\n",
      "True\n"
     ]
    }
   ],
   "source": [
    "p = input()\n",
    "print(p)\n",
    "\n",
    "if 8<=len(p)<=32 and p[0].isalpha() and \"/\" not in p and \"\\\\\" not in p and '=' not in p and '\\'' not in p and '\\\"' not in p and ' ' not in p :\n",
    "    print(True)\n",
    "else:\n",
    "    print(False)"
   ]
  },
  {
   "attachments": {},
   "cell_type": "markdown",
   "metadata": {},
   "source": [
    "18. Accept a positive integer n as input and print the first n positive \n",
    "integers, one number on each line."
   ]
  },
  {
   "cell_type": "code",
   "execution_count": 25,
   "metadata": {},
   "outputs": [
    {
     "name": "stdout",
     "output_type": "stream",
     "text": [
      "number: 5\n",
      "1\n",
      "2\n",
      "3\n",
      "4\n",
      "5\n"
     ]
    }
   ],
   "source": [
    "n = int(input())\n",
    "print(f\"number: {n}\")\n",
    "for i in range(1, n+1):\n",
    "    print(i)\n",
    "\n"
   ]
  },
  {
   "attachments": {},
   "cell_type": "markdown",
   "metadata": {},
   "source": [
    "19.Accept a positive integer n as input, where n is greater than 1. \n",
    "Print PRIME if n is a prime number and NOTPRIME otherwise."
   ]
  },
  {
   "cell_type": "code",
   "execution_count": 30,
   "metadata": {},
   "outputs": [
    {
     "name": "stdout",
     "output_type": "stream",
     "text": [
      "n: 2\n",
      "n: 2 is a prime number\n"
     ]
    }
   ],
   "source": [
    "n = int(input())\n",
    "print(F\"n: {n}\")\n",
    "isprime = True\n",
    "if n == 1:\n",
    "    isprime = False\n",
    "else:\n",
    "    for i in range(2,n):\n",
    "        if n%i ==0:\n",
    "            isprime = False\n",
    "\n",
    "if isprime == True:\n",
    "    print(f\"n: {n} is a prime number\")\n",
    "else:\n",
    "    print(f\"n: {n} is not a prime number\")"
   ]
  },
  {
   "attachments": {},
   "cell_type": "markdown",
   "metadata": {},
   "source": [
    "20. Accept two strings as input and form a new string by removing all \n",
    "characters from the second string which are present in the first string. \n",
    "Print this new string as output. You can assume that all input strings \n",
    "will be in lower case."
   ]
  },
  {
   "cell_type": "code",
   "execution_count": 32,
   "metadata": {},
   "outputs": [
    {
     "name": "stdout",
     "output_type": "stream",
     "text": [
      "sam\n",
      "ranu\n",
      "rnu\n"
     ]
    }
   ],
   "source": [
    "str1 = input()\n",
    "str2 = input()\n",
    "print(str1)\n",
    "print(str2)\n",
    "\n",
    "for i in str1:\n",
    "    if i in str2:\n",
    "        str2 = str2.replace(i,\"\")\n",
    "\n",
    "print(str2)"
   ]
  },
  {
   "cell_type": "code",
   "execution_count": 33,
   "metadata": {},
   "outputs": [
    {
     "name": "stdout",
     "output_type": "stream",
     "text": [
      "pooja\n",
      "plio\n",
      "li\n"
     ]
    }
   ],
   "source": [
    "str1 = input()\n",
    "str2 = input()\n",
    "print(str1)\n",
    "print(str2)\n",
    "\n",
    "for i in str1:\n",
    "    if i in str2:\n",
    "        str2 = str2.replace(i,\"\")\n",
    "\n",
    "print(str2)"
   ]
  },
  {
   "cell_type": "code",
   "execution_count": 34,
   "metadata": {},
   "outputs": [
    {
     "name": "stdout",
     "output_type": "stream",
     "text": [
      "pooja\n",
      "pliio\n",
      "ja\n"
     ]
    }
   ],
   "source": [
    "str1 = input()\n",
    "str2 = input()\n",
    "print(str1)\n",
    "print(str2)\n",
    "\n",
    "for i in str1:\n",
    "    if i in str2:\n",
    "        str1 = str1.replace(i,\"\")\n",
    "print(str1)"
   ]
  },
  {
   "cell_type": "code",
   "execution_count": null,
   "metadata": {},
   "outputs": [],
   "source": []
  }
 ],
 "metadata": {
  "kernelspec": {
   "display_name": "Python 3",
   "language": "python",
   "name": "python3"
  },
  "language_info": {
   "codemirror_mode": {
    "name": "ipython",
    "version": 3
   },
   "file_extension": ".py",
   "mimetype": "text/x-python",
   "name": "python",
   "nbconvert_exporter": "python",
   "pygments_lexer": "ipython3",
   "version": "3.11.2"
  },
  "orig_nbformat": 4
 },
 "nbformat": 4,
 "nbformat_minor": 2
}
