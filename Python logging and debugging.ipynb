{
 "cells": [
  {
   "cell_type": "code",
   "execution_count": 5,
   "metadata": {},
   "outputs": [
    {
     "name": "stdout",
     "output_type": "stream",
     "text": [
      "add_result : 30\n",
      "substract_result : -10\n",
      "multiply_result : 200\n",
      "divide_result : 0.5\n"
     ]
    }
   ],
   "source": [
    "def add(x,y):\n",
    "    return x+y\n",
    "\n",
    "def substract(x,y):\n",
    "    return x-y\n",
    "\n",
    "def multiply(x,y):\n",
    "    return x*y\n",
    "\n",
    "def divide(x,y):\n",
    "    return x/y\n",
    "\n",
    "num_1 = 10\n",
    "num_2 = 20\n",
    "\n",
    "add_result = add(num_1,num_2)\n",
    "print(\"add_result :\", add_result)\n",
    "\n",
    "substract_result = substract(num_1,num_2)\n",
    "print(\"substract_result :\", substract_result)\n",
    "\n",
    "multiply_result = multiply(num_1,num_2)\n",
    "print(\"multiply_result :\",multiply_result)\n",
    "\n",
    "divide_result = divide(num_1,num_2)\n",
    "print(\"divide_result :\",divide_result)"
   ]
  },
  {
   "cell_type": "code",
   "execution_count": 6,
   "metadata": {},
   "outputs": [],
   "source": [
    "import logging\n",
    "logging.basicConfig(filename = \"test.log\", level = logging.INFO)\n",
    "\n",
    "\n",
    "def add(x,y):\n",
    "    return x+y\n",
    "\n",
    "def substract(x,y):\n",
    "    return x-y\n",
    "\n",
    "def multiply(x,y):\n",
    "    return x*y\n",
    "\n",
    "def divide(x,y):\n",
    "    return x/y\n",
    "\n",
    "num_1 = 10\n",
    "num_2 = 20\n",
    "\n",
    "add_result = add(num_1,num_2)\n",
    "logging.debug(add_result)\n",
    "\n",
    "substract_result = substract(num_1,num_2)\n",
    "logging.debug(substract_result)\n",
    "\n",
    "multiply_result = multiply(num_1,num_2)\n",
    "logging.debug(multiply_result)\n",
    "\n",
    "divide_result = divide(num_1,num_2)\n",
    "logging.debug(divide_result)"
   ]
  },
  {
   "cell_type": "code",
   "execution_count": 7,
   "metadata": {},
   "outputs": [
    {
     "data": {
      "text/plain": [
       "30"
      ]
     },
     "execution_count": 7,
     "metadata": {},
     "output_type": "execute_result"
    }
   ],
   "source": [
    "add(10,20)"
   ]
  },
  {
   "cell_type": "code",
   "execution_count": 8,
   "metadata": {},
   "outputs": [],
   "source": [
    "import logging"
   ]
  },
  {
   "cell_type": "code",
   "execution_count": 9,
   "metadata": {},
   "outputs": [],
   "source": [
    "logging.info(\"this is info\")"
   ]
  },
  {
   "cell_type": "code",
   "execution_count": 10,
   "metadata": {},
   "outputs": [],
   "source": [
    "def namecheck(name):\n",
    "    if len(name) < 2:\n",
    "        print(\"checking for name length\")\n",
    "        return \"invalid name\"\n",
    "    elif name.isspace():\n",
    "        print(\"checking for name has space\")\n",
    "        return \"invalid name\"\n",
    "    elif name.isalpha():\n",
    "        print(\"checking for name is alphabet\")\n",
    "        return \"valid name\"\n",
    "    elif name.replace(\" \", \"\").isalpha():\n",
    "        print(\"checking for full name\")\n",
    "        return \"name is valid\"\n",
    "    else:\n",
    "        print(\"Failed all checks\")\n",
    "        return \"invalid name\"\n",
    "\n"
   ]
  },
  {
   "cell_type": "code",
   "execution_count": 11,
   "metadata": {},
   "outputs": [
    {
     "name": "stdout",
     "output_type": "stream",
     "text": [
      "checking for name is alphabet\n"
     ]
    },
    {
     "data": {
      "text/plain": [
       "'valid name'"
      ]
     },
     "execution_count": 11,
     "metadata": {},
     "output_type": "execute_result"
    }
   ],
   "source": [
    "namecheck(\"pooja\")"
   ]
  },
  {
   "cell_type": "code",
   "execution_count": 12,
   "metadata": {},
   "outputs": [
    {
     "name": "stdout",
     "output_type": "stream",
     "text": [
      "checking for full name\n"
     ]
    },
    {
     "data": {
      "text/plain": [
       "'name is valid'"
      ]
     },
     "execution_count": 12,
     "metadata": {},
     "output_type": "execute_result"
    }
   ],
   "source": [
    "namecheck(\"pooja sureka\")"
   ]
  },
  {
   "cell_type": "code",
   "execution_count": 13,
   "metadata": {},
   "outputs": [
    {
     "name": "stdout",
     "output_type": "stream",
     "text": [
      "Failed all checks\n"
     ]
    },
    {
     "data": {
      "text/plain": [
       "'invalid name'"
      ]
     },
     "execution_count": 13,
     "metadata": {},
     "output_type": "execute_result"
    }
   ],
   "source": [
    "namecheck(\"po1878\")"
   ]
  },
  {
   "cell_type": "code",
   "execution_count": 14,
   "metadata": {},
   "outputs": [],
   "source": [
    "import logging\n",
    "logging.basicConfig(filename= \"test.log\", level = logging.DEBUG)\n",
    "\n",
    "\n",
    "def namecheck(name):\n",
    "    if len(name) < 2:\n",
    "        logging.debug(\"checking for name length\")\n",
    "        return \"invalid name\"\n",
    "    elif name.isspace():\n",
    "        logging.debug(\"checking for name has space\")\n",
    "        return \"invalid name\"\n",
    "    elif name.isalpha():\n",
    "        logging.debug(\"checking for name is alphabet\")\n",
    "        return \"valid name\"\n",
    "    elif name.replace(\" \", \"\").isalpha():\n",
    "        logging.debug(\"checking for full name\")\n",
    "        return \"name is valid\"\n",
    "    else:\n",
    "        logging.debug(\"Failed all checks\")\n",
    "        return \"invalid name\"\n"
   ]
  },
  {
   "cell_type": "code",
   "execution_count": 15,
   "metadata": {},
   "outputs": [
    {
     "data": {
      "text/plain": [
       "'valid name'"
      ]
     },
     "execution_count": 15,
     "metadata": {},
     "output_type": "execute_result"
    }
   ],
   "source": [
    "namecheck(\"pooja\")"
   ]
  },
  {
   "cell_type": "code",
   "execution_count": 16,
   "metadata": {},
   "outputs": [],
   "source": [
    "import os"
   ]
  },
  {
   "cell_type": "code",
   "execution_count": 17,
   "metadata": {},
   "outputs": [
    {
     "data": {
      "text/plain": [
       "'d:\\\\PYTHON iNeuron\\\\Learning Python'"
      ]
     },
     "execution_count": 17,
     "metadata": {},
     "output_type": "execute_result"
    }
   ],
   "source": [
    "pwd"
   ]
  },
  {
   "cell_type": "code",
   "execution_count": 18,
   "metadata": {},
   "outputs": [],
   "source": [
    "import logging\n",
    "logging.basicConfig(filename= \"test.log\", level = logging.DEBUG)\n",
    "\n",
    "def sum(*args):\n",
    "    sum = 0\n",
    "    for i in args:\n",
    "        sum = sum+i\n",
    "    logging.debug(\"Finding the sum\")\n",
    "    return sum"
   ]
  },
  {
   "cell_type": "code",
   "execution_count": 19,
   "metadata": {},
   "outputs": [
    {
     "data": {
      "text/plain": [
       "8"
      ]
     },
     "execution_count": 19,
     "metadata": {},
     "output_type": "execute_result"
    }
   ],
   "source": [
    "sum(2,5,1)"
   ]
  },
  {
   "cell_type": "code",
   "execution_count": 20,
   "metadata": {},
   "outputs": [
    {
     "name": "stdout",
     "output_type": "stream",
     "text": [
      "INFO:root:-10\n",
      "WARNING:root:200\n",
      "CRITICAL:root:0.5\n",
      "INFO:root:-10\n",
      "WARNING:root:200\n",
      "CRITICAL:root:0.5\n",
      "INFO:root:-10\n",
      "WARNING:root:200\n",
      "CRITICAL:root:0.5\n",
      "DEBUG:root:checking for name is alphabet\n",
      "DEBUG:root:checking for name is alphabet\n",
      "DEBUG:root:checking for name is alphabet\n",
      "DEBUG:root:checking for name length\n",
      "DEBUG:root:Failed all checks\n",
      "DEBUG:root:Failed all checks\n",
      "DEBUG:root:checking for full name\n",
      "2023-07-28 12:54:39,197:INFO:-10\n",
      "2023-07-28 12:54:39,197:WARNING:200\n",
      "2023-07-28 12:54:39,197:CRITICAL:0.5\n",
      "2023-07-28 12:55:13,261:DEBUG:Failed all checks\n",
      "2023-07-28 12:55:13,262:DEBUG:checking for full name\n",
      "2023-07-28 13:03:27,044-DEBUG-Failed all checks\n",
      "2023-07-28 13:03:27,045-DEBUG-checking for full name\n",
      "2023-07-28 13:03:48,401 - DEBUG - Failed all checks\n",
      "2023-07-28 13:03:48,402 - DEBUG - checking for full name\n",
      "DEBUG:root:Finding the sum\n",
      "INFO:root:This is my addition function\n",
      "INFO:root:1\n",
      "INFO:root:2\n",
      "INFO:root:3\n",
      "INFO:root:this is info\n",
      "\n"
     ]
    }
   ],
   "source": [
    "import logging as lg\n",
    "\n",
    "lg.basicConfig(filename= \"test.log\", level = lg.INFO)\n",
    "\n",
    "def sum(*args):\n",
    "    lg.info(\"This is my addition function\")\n",
    "    sum = 0\n",
    "    for i in args:\n",
    "        lg.info(str(i))\n",
    "        sum = sum+i\n",
    "    logging.debug(\"Finding the sum\")\n",
    "    return sum\n",
    "\n",
    "f = open(\"test.log\", \"r\")\n",
    "print(f.read())"
   ]
  },
  {
   "cell_type": "code",
   "execution_count": 21,
   "metadata": {},
   "outputs": [
    {
     "name": "stdout",
     "output_type": "stream",
     "text": [
      "INFO:root:-10\n",
      "WARNING:root:200\n",
      "CRITICAL:root:0.5\n",
      "INFO:root:-10\n",
      "WARNING:root:200\n",
      "CRITICAL:root:0.5\n",
      "INFO:root:-10\n",
      "WARNING:root:200\n",
      "CRITICAL:root:0.5\n",
      "DEBUG:root:checking for name is alphabet\n",
      "DEBUG:root:checking for name is alphabet\n",
      "DEBUG:root:checking for name is alphabet\n",
      "DEBUG:root:checking for name length\n",
      "DEBUG:root:Failed all checks\n",
      "DEBUG:root:Failed all checks\n",
      "DEBUG:root:checking for full name\n",
      "2023-07-28 12:54:39,197:INFO:-10\n",
      "2023-07-28 12:54:39,197:WARNING:200\n",
      "2023-07-28 12:54:39,197:CRITICAL:0.5\n",
      "2023-07-28 12:55:13,261:DEBUG:Failed all checks\n",
      "2023-07-28 12:55:13,262:DEBUG:checking for full name\n",
      "2023-07-28 13:03:27,044-DEBUG-Failed all checks\n",
      "2023-07-28 13:03:27,045-DEBUG-checking for full name\n",
      "2023-07-28 13:03:48,401 - DEBUG - Failed all checks\n",
      "2023-07-28 13:03:48,402 - DEBUG - checking for full name\n",
      "DEBUG:root:Finding the sum\n",
      "INFO:root:This is my addition function\n",
      "INFO:root:1\n",
      "INFO:root:2\n",
      "INFO:root:3\n",
      "INFO:root:this is info\n",
      "\n"
     ]
    }
   ],
   "source": [
    "import logging as lg\n",
    "\n",
    "lg.basicConfig(filename= \"test.log\", level = lg.INFO)\n",
    "\n",
    "def sum(*args):\n",
    "    lg.info(\"This is my addition function\")\n",
    "    sum = 0\n",
    "    for i in args:\n",
    "        lg.info(str(i))\n",
    "        sum = sum+i\n",
    "    return sum\n",
    "f = open(\"test.log\", \"r\")\n",
    "print(f.read())"
   ]
  },
  {
   "cell_type": "code",
   "execution_count": null,
   "metadata": {},
   "outputs": [],
   "source": []
  }
 ],
 "metadata": {
  "kernelspec": {
   "display_name": "Python 3",
   "language": "python",
   "name": "python3"
  },
  "language_info": {
   "codemirror_mode": {
    "name": "ipython",
    "version": 3
   },
   "file_extension": ".py",
   "mimetype": "text/x-python",
   "name": "python",
   "nbconvert_exporter": "python",
   "pygments_lexer": "ipython3",
   "version": "3.11.2"
  },
  "orig_nbformat": 4
 },
 "nbformat": 4,
 "nbformat_minor": 2
}
